{
 "cells": [
  {
   "cell_type": "markdown",
   "metadata": {},
   "source": [
    "# Module 2 - Programming Assignment\n",
    "\n",
    "## Directions\n",
    "\n",
    "1. Change the name of this file to be your JHED id as in `jsmith299.ipynb`. Because sure you use your JHED ID (it's made out of your name and not your student id which is just letters and numbers).\n",
    "2. Make sure the notebook you submit is cleanly and fully executed. I do not grade unexecuted notebooks.\n",
    "3. Submit your notebook back in Blackboard where you downloaded this file.\n",
    "\n",
    "*Provide the output **exactly** as requested*"
   ]
  },
  {
   "cell_type": "code",
   "execution_count": 1,
   "metadata": {},
   "outputs": [],
   "source": [
    "from pprint import pprint\n",
    "from typing import List, Tuple, Dict, Callable\n",
    "import random"
   ]
  },
  {
   "cell_type": "markdown",
   "metadata": {},
   "source": [
    "## Local Search - Genetic Algorithm\n",
    "\n",
    "There are some key ideas in the Genetic Algorithm.\n",
    "\n",
    "First, there is a problem of some kind that either *is* an optimization problem or the solution can be expressed in terms of an optimization problem.\n",
    "For example, if we wanted to minimize the function\n",
    "\n",
    "$$f(x) = \\sum (x_i - 0.5)^2$$\n",
    "\n",
    "where $n = 10$.\n",
    "This *is* an optimization problem. Normally, optimization problems are much, much harder.\n",
    "\n",
    "![Eggholder](http://www.sfu.ca/~ssurjano/egg.png)!\n",
    "\n",
    "The function we wish to optimize is often called the **objective function**.\n",
    "The objective function is closely related to the **fitness** function in the GA.\n",
    "If we have a **maximization** problem, then we can use the objective function directly as a fitness function.\n",
    "If we have a **minimization** problem, then we need to convert the objective function into a suitable fitness function, since fitness functions must always mean \"more is better\".\n",
    "\n",
    "Second, we need to *encode* candidate solutions using an \"alphabet\" analogous to G, A, T, C in DNA.\n",
    "This encoding can be quite abstract.\n",
    "You saw this in the Self Check.\n",
    "There a floating point number was encoded as bits, just as in a computer and a sophisticated decoding scheme was then required.\n",
    "\n",
    "Sometimes, the encoding need not be very complicated at all.\n",
    "For example, in the real-valued GA, discussed in the Lectures, we could represent 2.73 as....2.73.\n",
    "This is similarly true for a string matching problem.\n",
    "We *could* encode \"a\" as \"a\", 97, or '01100001'.\n",
    "And then \"hello\" would be:\n",
    "\n",
    "```\n",
    "[\"h\", \"e\", \"l\", \"l\", \"o\"]\n",
    "```\n",
    "\n",
    "or\n",
    "\n",
    "```\n",
    "[104, 101, 108, 108, 111]\n",
    "```\n",
    "\n",
    "or\n",
    "\n",
    "```\n",
    "0, 1, 1, 0, 1, 0, 0, 0, 0, 1, 1, 0, 0, 1, 0, 1, 0, 1, 1, 0, 1, 1, 0, 0, 0, 1, 1, 0, 1, 1, 0, 0, 0, 1, 1, 0, 1, 1, 1, 1\n",
    "```\n",
    "\n",
    "In Genetics terminology, this is the **chromosome** of the individual. And if this individual had the **phenotype** \"h\" for the first character then they would have the **genotype** for \"h\" (either as \"h\", 104, or 01101000).\n",
    "\n",
    "To keep it straight, think **geno**type is **genes** and **pheno**type is **phenomenon**, the actual thing that the genes express.\n",
    "So while we might encode a number as 10110110 (genotype), the number itself, 182, is what goes into the fitness function.\n",
    "The environment operates on zebras, not the genes for stripes."
   ]
  },
  {
   "cell_type": "markdown",
   "metadata": {},
   "source": [
    "## String Matching\n",
    "\n",
    "You are going to write a Genetic Algorithm that will solve the problem of matching a target string (at least at the start).\n",
    "Now, this is kind of silly because in order for this to work, you need to know the target string and if you know the target string, why are you trying to do it?\n",
    "Well, the problem is *pedagogical*.\n",
    "It's a fun way of visualizing the GA at work, because as the GA finds better and better candidates, they make more and more sense.\n",
    "\n",
    "Now, string matching is not *directly* an optimization problem so this falls under the general category of \"if we convert the problem into an optimization problem we can solve it with an optimization algorithm\" approach to problem solving.\n",
    "This happens all the time.\n",
    "We have a problem.\n",
    "We can't solve it.\n",
    "We convert it to a problem we *can* solve.\n",
    "In this case, we're using the GA to solve the optimization part.\n",
    "\n",
    "And all we need is some sort of measure of the difference between two strings.\n",
    "We can use that measure as a **loss function**.\n",
    "A loss function gives us a score tells us how similar two strings are.\n",
    "The loss function becomes our objective function and we use the GA to minimize it by converting the objective function to a fitness function.\n",
    "So that's the first step, come up with the loss/objective function.\n",
    "The only stipulation is that it must calculate the score based on element to element (character to character) comparisons with no global transformations of the candidate or target strings.\n",
    "\n",
    "And since this is a GA, we need a **genotype**.\n",
    "The genotype for this problem is a list of \"characters\" (individual letters aren't special in Python like they are in some other languages):\n",
    "\n",
    "```\n",
    "[\"h\", \"e\", \"l\", \"l\", \"o\"]\n",
    "```\n",
    "\n",
    "and the **phenotype** is the resulting string:\n",
    "\n",
    "```\n",
    "\"hello\"\n",
    "```\n",
    "\n",
    "In addition to the generic code and problem specific loss function, you'll need to pick parameters for the run.\n",
    "These parameters include:\n",
    "\n",
    "1. population size\n",
    "2. number of generations\n",
    "3. probability of crossover\n",
    "4. probability of mutation\n",
    "\n",
    "You will also need to pick a selection algorithm, either roulette wheel or tournament selection.\n",
    "In the later case, you will need a tournament size.\n",
    "This is all part of the problem.\n",
    "\n",
    "Every **ten** (10) generations, you should print out the fitness, genotype, and phenotype of the best individual in the population for the specific generation.\n",
    "The function should return the best individual *of the entire run*, using the same format."
   ]
  },
  {
   "cell_type": "code",
   "execution_count": 2,
   "metadata": {},
   "outputs": [],
   "source": [
    "ALPHABET = \"abcdefghijklmnopqrstuvwxyz \""
   ]
  },
  {
   "cell_type": "markdown",
   "metadata": {},
   "source": [
    "<a id=\"to_binary\"></a>\n",
    "## to_binary\n",
    "\n",
    "Converts a string of alphabet to a string of binary.\n",
    "\n",
    "Variables\n",
    "\n",
    "* **string** str: the string to be converted to binary\n",
    "\n",
    "**returns** str: the input string converted to a binary string - will have leading 0 values for every character"
   ]
  },
  {
   "cell_type": "code",
   "execution_count": 3,
   "metadata": {},
   "outputs": [],
   "source": [
    "def to_binary(string: str):\n",
    "    l,m = [],[]\n",
    "    for i in string:\n",
    "        l.append(ord(i))\n",
    "    for i in l:\n",
    "        m.append(format(i,'08b'))\n",
    "    return \"\".join(m)"
   ]
  },
  {
   "cell_type": "code",
   "execution_count": 4,
   "metadata": {},
   "outputs": [],
   "source": [
    "test1 = \"love\"\n",
    "test2 = \"hate\"\n",
    "test3 = \"idk\"\n",
    "assert to_binary(test1) == '01101100011011110111011001100101'\n",
    "assert to_binary(test2) == '01101000011000010111010001100101'\n",
    "assert to_binary(test3) == '011010010110010001101011'"
   ]
  },
  {
   "cell_type": "markdown",
   "metadata": {},
   "source": [
    "<a id=\"mutate_string\"></a>\n",
    "## mutate_string\n",
    "\n",
    "Mutates part of a specified member from a population.\n",
    "\n",
    "Variables\n",
    "\n",
    "* **to_mutate** str: the string to mutate\n",
    "* **random_phenotype** str: the random phenotype to mutate to\n",
    "* **threshold** float: the float threshold for if we should actually mutate\n",
    "* **random_value** float: the random value to check against for if there should be a mutation\n",
    "* **random_mutation_index** int: if we mutate, we mutate this index\n",
    "\n",
    "**returns** str: the original or mutated version of the input string"
   ]
  },
  {
   "cell_type": "code",
   "execution_count": 5,
   "metadata": {},
   "outputs": [],
   "source": [
    "def mutate_string(to_mutate: str, random_phenotype: str, threshold: float, random_value: float, random_mutation_index: int):\n",
    "    if random_mutation_index < len(to_mutate) and random_value < threshold:\n",
    "        to_mutate = to_mutate[:random_mutation_index] + random_phenotype + to_mutate[random_mutation_index + 1:]\n",
    "    return to_mutate"
   ]
  },
  {
   "cell_type": "code",
   "execution_count": 6,
   "metadata": {},
   "outputs": [],
   "source": [
    "t1 = \"something\"\n",
    "t2 = \"whatever\"\n",
    "t3 = \"elephant\"\n",
    "assert mutate_string(t1, \"x\", 0.5, 0.255, 4) == 'somexhing'\n",
    "assert mutate_string(t1, \"x\", 0.5, 0.255, 9) == 'something'\n",
    "assert mutate_string(t2, \"x\", 0.5, 0.255, 5) == 'whatexer'\n",
    "assert mutate_string(t3, \"x\", 0.5, 0.255, 1) == 'exephant'"
   ]
  },
  {
   "cell_type": "markdown",
   "metadata": {},
   "source": [
    "<a id=\"generate_children\"></a>\n",
    "## generate_children\n",
    "\n",
    "Generates two children from two parents in a population.\n",
    "\n",
    "Variables\n",
    "\n",
    "* **parent1** str: the string value of parent1\n",
    "* **parent2** str: the string value of parent2\n",
    "* **threshold** float: the float threshold for if we should actually have crossover event\n",
    "* **random_value** float: the random value to check against for if there should be a crossover event\n",
    "* **random_splice_index** int: if we have a crossover event, we use this index\n",
    "\n",
    "**returns** List[str]: children (or parents) based on the results of crossover events."
   ]
  },
  {
   "cell_type": "code",
   "execution_count": 7,
   "metadata": {},
   "outputs": [],
   "source": [
    "def generate_children(parent1: str, parent2: str, threshold: float, random_value: float, random_splice_index: int):\n",
    "    if random_value >= threshold:\n",
    "        return [parent1, parent2]\n",
    "    else:\n",
    "        son = parent1[:random_splice_index] + parent2[random_splice_index:]\n",
    "        daughter = parent2[:random_splice_index] + parent1[random_splice_index:]\n",
    "    return [son, daughter]"
   ]
  },
  {
   "cell_type": "code",
   "execution_count": 8,
   "metadata": {},
   "outputs": [],
   "source": [
    "t1p1 = \"frogs\"\n",
    "t1p2 = \"mouse\"\n",
    "t2p1 = \"dump\"\n",
    "t2p2 = \"ppp \"\n",
    "assert generate_children(t1p1, t1p2, 0.5, 0.1, 2) == ['fruse', 'moogs']\n",
    "assert generate_children(t2p1, t2p2, 0.5, 0.1, 3) == ['dum ', 'pppp']\n",
    "assert generate_children(t2p1, t2p2, 0.01, 0.1, 2) == ['dump', 'ppp ']"
   ]
  },
  {
   "cell_type": "markdown",
   "metadata": {},
   "source": [
    "<a id=\"calculate_fitness\"></a>\n",
    "## calculate_fitness\n",
    "\n",
    "This takes the target string and condidate string to calculate how close the candidate is to the target. 'Fitness' is based on an index to index comparison - exact index matches so 0 compared to 0, 1 to 1, etc.\n",
    "\n",
    "Variables\n",
    "\n",
    "* **target** str: the target value\n",
    "* **candidate** str: the candidate value we will be comparing to the target\n",
    "* **phenotypes** List[str]: this is a None type, but is necessary here due to the ROT13 fitness using the same signature and used dynamically later\n",
    "\n",
    "**returns** int: integer fitness value of the provided member compared to the target"
   ]
  },
  {
   "cell_type": "code",
   "execution_count": 9,
   "metadata": {},
   "outputs": [],
   "source": [
    "def calculate_fitness(target: str, candidate: str, phenotypes = None):\n",
    "    score = 0\n",
    "    for i in range(0, len(target)):\n",
    "        if target[i] == candidate[i]:\n",
    "            score += 1\n",
    "    return score"
   ]
  },
  {
   "cell_type": "code",
   "execution_count": 10,
   "metadata": {},
   "outputs": [],
   "source": [
    "assert calculate_fitness('something', 'something') == 9\n",
    "assert calculate_fitness('somethinx', 'something') == 8\n",
    "assert calculate_fitness('something', 'gsomethin') == 0"
   ]
  },
  {
   "cell_type": "markdown",
   "metadata": {},
   "source": [
    "<a id=\"calculate_fitness_reverse\"></a>\n",
    "## calculate_fitness_reverse\n",
    "\n",
    "This takes the target string and condidate string to calculate how close the candidate is to the target. 'Fitness' is based on an index to index comparison - reverse index matches so 0 compared to len-1, 1 to len-2, etc.\n",
    "\n",
    "Variables\n",
    "\n",
    "* **target** str: the target value\n",
    "* **candidate** str: the candidate value we will be comparing to the target\n",
    "* **phenotypes** List[str]: this is a None type, but is necessary here due to the ROT13 fitness using the same signature and used dynamically later\n",
    "\n",
    "**returns** int: integer fitness value of the provided member compared to the target"
   ]
  },
  {
   "cell_type": "code",
   "execution_count": 11,
   "metadata": {},
   "outputs": [],
   "source": [
    "def calculate_fitness_reverse(target: str, candidate: str, phenotypes = None):\n",
    "    score = 0\n",
    "    for i in range(0, len(target)):\n",
    "        if target[len(target) - 1 - i] == candidate[i]:\n",
    "            score += 1\n",
    "    return score"
   ]
  },
  {
   "cell_type": "code",
   "execution_count": 12,
   "metadata": {},
   "outputs": [],
   "source": [
    "assert calculate_fitness_reverse('gnihtemos', 'something') == 9\n",
    "assert calculate_fitness_reverse('gnihtemos', 'somethinn') == 8\n",
    "assert calculate_fitness_reverse('gnihtemos', 'gsomethin') == 0"
   ]
  },
  {
   "cell_type": "markdown",
   "metadata": {},
   "source": [
    "<a id=\"calculate_fitness_rot13\"></a>\n",
    "## calculate_fitness_rot13\n",
    "\n",
    "This takes the target string and condidate string to calculate how close the candidate is to the target. 'Fitness' is based on an index to index comparison - ROT13 index matches so 0 compared to 0+13, 1 to 1+13 (if reaching end of string then it restarts to beginning), etc.\n",
    "\n",
    "Variables\n",
    "\n",
    "* **target** str: the target value\n",
    "* **candidate** str: the candidate value we will be comparing to the target\n",
    "* **phenotypes** List[str]: this is needed to to index shifts to decode the target\n",
    "\n",
    "**returns** int: integer fitness value of the provided member compared to the target"
   ]
  },
  {
   "cell_type": "code",
   "execution_count": 13,
   "metadata": {},
   "outputs": [],
   "source": [
    "def calculate_fitness_rot13(target: str, candidate: str, phenotypes: List[str]):\n",
    "    score = 0\n",
    "    for i in range(0, len(target)):\n",
    "        target_index = phenotypes.index(target[i])\n",
    "        if phenotypes[(target_index + 13) % len(phenotypes)] == candidate[i]:\n",
    "            score += 1\n",
    "    return score"
   ]
  },
  {
   "cell_type": "code",
   "execution_count": 14,
   "metadata": {},
   "outputs": [],
   "source": [
    "ALPHABET3_TEST = \"abcdefghijklmnopqrstuvwxyz\"\n",
    "assert calculate_fitness_rot13('guvfvffbzhpusha', 'thisissomuchfun', ALPHABET3_TEST) == 15\n",
    "assert calculate_fitness_rot13('guvfvffbzhpusha', 'thisissooooofun', ALPHABET3_TEST) == 11\n",
    "assert calculate_fitness_rot13('guvfvffbzhpusha', 'nthisissomuchfu', ALPHABET3_TEST) == 1"
   ]
  },
  {
   "cell_type": "markdown",
   "metadata": {},
   "source": [
    "<a id=\"pick_parents\"></a>\n",
    "## pick_parents\n",
    "\n",
    "This picks the two 'best' parents from the population based on their fitness scores. We are using a tournament style selection. Tournament size is always 7.\n",
    "\n",
    "Variables\n",
    "\n",
    "* **population** List[str]: the population\n",
    "* **target** str: the target value - needed for fitness\n",
    "* **fitness_calc** callable func: this is the fitness function\n",
    "* **phenotypes** List[str]: this is needed to to index shifts to decode the target - needed for fitness\n",
    "\n",
    "**returns** List[str]: string values of the parents that were found to be the 'best'"
   ]
  },
  {
   "cell_type": "code",
   "execution_count": 15,
   "metadata": {},
   "outputs": [],
   "source": [
    "def pick_parents(population: List[str], target: str, fitness_calc: callable, phenotypes = None):\n",
    "    r1_winners = []\n",
    "    while len(r1_winners) < 7 and not len(r1_winners) == len(population):\n",
    "        possible_winner = population[random.randint(0,len(population) - 1)]\n",
    "        p_w_with_fitness = (possible_winner, fitness_calc(target, possible_winner, phenotypes))\n",
    "        if not p_w_with_fitness in r1_winners:\n",
    "            r1_winners.append(p_w_with_fitness)\n",
    "    max1 = ('', -1)\n",
    "    max2 = ('', -1)\n",
    "    for geno in r1_winners:\n",
    "        if geno[1] > max1[1]:\n",
    "            max1 = geno\n",
    "        if max1[1] > max2[1]:\n",
    "            max1, max2 = max2, max1\n",
    "    return [max1[0], max2[0]]"
   ]
  },
  {
   "cell_type": "code",
   "execution_count": 16,
   "metadata": {},
   "outputs": [],
   "source": [
    "population1 = ['qwcf', 'qwer', 'zxcv', 'sdfg', 'werv', 'erty', 'dfgh', 'cvcn', 'sdfg', 'axcv']\n",
    "population2 = ['qwcf', 'qwer', 'zxcv', 'sdfg', 'werv', 'erty']\n",
    "population3 = ['qwcf', 'qwer', 'erty', 'dfgh', 'cvcn', 'sdfg', 'axcv']\n",
    "target = 'zxcv'\n",
    "non_zero = ['zxcv', 'qwcf', 'werv', 'axcv', 'cvcn']\n",
    "# should always pick non-zero values\n",
    "assert [p in non_zero for p in pick_parents(population1, target, calculate_fitness)]\n",
    "assert [p in non_zero for p in pick_parents(population2, target, calculate_fitness)]\n",
    "assert [p in non_zero for p in pick_parents(population3, target, calculate_fitness)]"
   ]
  },
  {
   "cell_type": "markdown",
   "metadata": {},
   "source": [
    "<a id=\"pick_parents\"></a>\n",
    "## pick_parents\n",
    "\n",
    "This picks the two 'best' parents from the population based on their fitness scores. We are using a tournament style selection. Tournament size is always 7.\n",
    "\n",
    "Variables\n",
    "\n",
    "* **population** List[str]: the population\n",
    "* **target** str: the target value - needed for fitness\n",
    "* **fitness_calc** callable func: this is the fitness function\n",
    "* **phenotypes** List[str]: this is needed to to index shifts to decode the target - needed for fitness\n",
    "\n",
    "**returns** List[str]: string values of the parents that were found to be the 'best'\n",
    "\n",
    "This generates a list of members for a population with a supplied length and valid phenotypes."
   ]
  },
  {
   "cell_type": "code",
   "execution_count": 17,
   "metadata": {},
   "outputs": [],
   "source": [
    "def generate_random_population(num_of_members: int, length: int, phenotypes: List[str]):\n",
    "    population = []\n",
    "    while len(population) < num_of_members:\n",
    "        member = ''\n",
    "        for i in range(length):\n",
    "            member += phenotypes[random.randint(0,len(phenotypes) - 1)]\n",
    "        population.append(member)\n",
    "    return population"
   ]
  },
  {
   "cell_type": "code",
   "execution_count": 18,
   "metadata": {},
   "outputs": [],
   "source": [
    "assert generate_random_population(1, 3, ['a']) == ['aaa']\n",
    "assert generate_random_population(5, 3, ['b']) == ['bbb', 'bbb', 'bbb', 'bbb', 'bbb']\n",
    "assert generate_random_population(4, 7, ['g']) == ['ggggggg', 'ggggggg', 'ggggggg', 'ggggggg']"
   ]
  },
  {
   "cell_type": "markdown",
   "metadata": {},
   "source": [
    "<a id=\"get_generational_information\"></a>\n",
    "## get_generational_information\n",
    "\n",
    "Prints out the best member in the current population. Prints Generation number information, then the best member's: genotype, phenotype, and fitness.\n",
    "\n",
    "Variables\n",
    "\n",
    "* **generation_string** str: string information about the generation number that we are on\n",
    "* **population** List[str]: the population\n",
    "* **target** str: the target value - needed for fitness\n",
    "* **fitness_calc** callable func: this is the fitness function\n",
    "* **phenotypes** List[str]: this is needed to to index shifts to decode the target - needed for fitness\n",
    "\n",
    "**returns** str: the string version of the information described above"
   ]
  },
  {
   "cell_type": "code",
   "execution_count": 19,
   "metadata": {},
   "outputs": [],
   "source": [
    "def get_generational_information(generation_string: str, population: List[str], target: str, fitness_calc: callable, phenotypes = None):\n",
    "    best = ('', -1)\n",
    "    for member in population:\n",
    "        fitness = fitness_calc(target, member, phenotypes)\n",
    "        if fitness > best[1]:\n",
    "            best = (member, fitness)\n",
    "    genotype = to_binary(best[0])\n",
    "    phenotype = best[0]\n",
    "    result = ''\n",
    "    result += '\\r\\n' + generation_string\n",
    "    result += '\\r\\nGenotype: ' + str(genotype)\n",
    "    result += '\\r\\nPhenotype: ' + str(phenotype)\n",
    "    result += '\\r\\nFitness: ' + str(best[1])\n",
    "    return result"
   ]
  },
  {
   "cell_type": "code",
   "execution_count": 20,
   "metadata": {},
   "outputs": [
    {
     "name": "stdout",
     "output_type": "stream",
     "text": [
      "\n",
      "Current Generation: 10\n",
      "Genotype: 011000010110000101100001\n",
      "Phenotype: aaa\n",
      "Fitness: 2\n"
     ]
    }
   ],
   "source": [
    "print(get_generational_information('Current Generation: 10', ['aaa'], 'aab', calculate_fitness))"
   ]
  },
  {
   "cell_type": "markdown",
   "metadata": {},
   "source": [
    "<a id=\"genetic_algorithm\"></a>\n",
    "### genetic_algorithm\n",
    "\n",
    "Steps follow the pseudocode from the lectures:\n",
    "\n",
    "Start with some initial population, valid phenotypes, mutation and crossover thresholds, and generation limit.\n",
    "\n",
    "Until we hit our generation limit, we do this:\n",
    "* go through half of the population and pick parents that are the best fitness using a fair tournament style selection\n",
    "* create children from those parents\n",
    "* all children make up the next population\n",
    "* repeat until generational limit is hit\n",
    "* every 10 generations and the final generation we print out information about the best member (by fitness) of that population\n",
    "\n",
    "Variables\n",
    "\n",
    "* **target** str: the target string to base our fitness off of\n",
    "* **population_size** int: the population size to generate\n",
    "* **generation_limit** int: the maximum number of generations to create\n",
    "* **phenotypes** List[str]: the valid phenotypes we can use in our process\n",
    "* **mutation_threshold** float: the float threshold for if we should mutate children\n",
    "* **crossover_threshold** float: the float threshold for if we should have a crossover event\n",
    "* **fitness_calc** callable func: this is the callable fitness function\n",
    "\n",
    "**returns** str: the results as a string"
   ]
  },
  {
   "cell_type": "code",
   "execution_count": 21,
   "metadata": {},
   "outputs": [],
   "source": [
    "def genetic_algorithm(target: str, population_size: int, generation_limit: int, phenotypes: List[str], mutation_threshold: float, crossover_threshold: float, fitness_calc: callable):\n",
    "    population = generate_random_population(population_size, len(target), phenotypes)\n",
    "    current_gen = 0\n",
    "    result = ''\n",
    "    while current_gen < generation_limit:\n",
    "        next_population = []\n",
    "        for n in range(0, int(population_size/2)):\n",
    "            parents = pick_parents(population, target, fitness_calc, phenotypes)\n",
    "            children = generate_children(parents[0], parents[1], crossover_threshold, random.uniform(0,1), random.randint(0,len(target) - 1))\n",
    "            for child in children:\n",
    "                next_population.append(mutate_string(child, phenotypes[random.randint(0,len(phenotypes) - 1)], mutation_threshold, random.uniform(0,1), random.randint(0,len(target) - 1)))\n",
    "        population = next_population\n",
    "        current_gen += 1\n",
    "        if current_gen % 10 == 0:\n",
    "            result += get_generational_information('\\r\\nCurrent Generation: ' + str(current_gen), population, target, fitness_calc, phenotypes)\n",
    "    result += get_generational_information('\\r\\nFinal Generation', population, target, fitness_calc, phenotypes)\n",
    "    return result"
   ]
  },
  {
   "cell_type": "markdown",
   "metadata": {},
   "source": [
    "## Problem 1\n",
    "\n",
    "The target is the string \"this is so much fun\".\n",
    "The challenge, aside from implementing the basic algorithm, is deriving a fitness function based on \"b\" - \"p\" (for example).\n",
    "The fitness function should come up with a fitness score based on element to element comparisons between target v. phenotype."
   ]
  },
  {
   "cell_type": "code",
   "execution_count": 22,
   "metadata": {},
   "outputs": [],
   "source": [
    "target1 = \"this is so much fun\""
   ]
  },
  {
   "cell_type": "code",
   "execution_count": 23,
   "metadata": {},
   "outputs": [],
   "source": [
    "# in testing, this take anywhere from 50 to 110 generations to reach the target\n",
    "result1 = genetic_algorithm(target1, 50, 120, ALPHABET, 0.7, 0.7, calculate_fitness)"
   ]
  },
  {
   "cell_type": "code",
   "execution_count": 24,
   "metadata": {},
   "outputs": [
    {
     "name": "stdout",
     "output_type": "stream",
     "text": [
      "\n",
      "\n",
      "Current Generation: 10\n",
      "Genotype: 01110100011010000110100101110011011110000111000001110100011110000111000101111001011100100110110001110101011011000110100001100011011001100111010101101110\n",
      "Phenotype: thisxptxqyrlulhcfun\n",
      "Fitness: 9\n",
      "\n",
      "Current Generation: 20\n",
      "Genotype: 01110100011010000110100101110011011110000111000001110011011000100111001101101100011110010110110001110001011011000110100001110100011001100111010101101110\n",
      "Phenotype: thisxpsbslylqlhtfun\n",
      "Fitness: 10\n",
      "\n",
      "Current Generation: 30\n",
      "Genotype: 01110100011010000110100101110011001000000111010101110011001000000111001101101001011110010110110001110101011000110110100001110100011001100111010101101110\n",
      "Phenotype: this us siyluchtfun\n",
      "Fitness: 14\n",
      "\n",
      "Current Generation: 40\n",
      "Genotype: 01110100011010000110100101110011011110000111001001110011001000000111001101101111001000000110011101110101011000110110100001100101011001100111010101101110\n",
      "Phenotype: thisxrs so guchefun\n",
      "Fitness: 15\n",
      "\n",
      "Current Generation: 50\n",
      "Genotype: 01110100011010000110100101110011011110000110100101110011001000000111001101101111001000000110110101110101011000110110100001110110011001100111010101101110\n",
      "Phenotype: thisxis so muchvfun\n",
      "Fitness: 17\n",
      "\n",
      "Current Generation: 60\n",
      "Genotype: 01110100011010000110100101110011011001110110100101110011001000000111001101101111001000000110110101110101011000110110100000100000011001100111010101101110\n",
      "Phenotype: thisgis so much fun\n",
      "Fitness: 18\n",
      "\n",
      "Current Generation: 70\n",
      "Genotype: 01110100011010000110100101110011001000000110100101110011001000000111001101101111001000000110110101110101011000110110100000100000011001100111010101101110\n",
      "Phenotype: this is so much fun\n",
      "Fitness: 19\n",
      "\n",
      "Current Generation: 80\n",
      "Genotype: 01110100011010000110100101110011001000000110100101110011001000000111001101101111001000000110110101110101011000110110100000100000011001100111010101101110\n",
      "Phenotype: this is so much fun\n",
      "Fitness: 19\n",
      "\n",
      "Current Generation: 90\n",
      "Genotype: 01110100011010000110100101110011001000000110100101110011001000000111001101101111001000000110110101110101011000110110100000100000011001100111010101101110\n",
      "Phenotype: this is so much fun\n",
      "Fitness: 19\n",
      "\n",
      "Current Generation: 100\n",
      "Genotype: 01110100011010000110100101110011001000000110100101110011001000000111001101101111001000000110110101110101011000110110100000100000011001100111010101101110\n",
      "Phenotype: this is so much fun\n",
      "Fitness: 19\n",
      "\n",
      "Current Generation: 110\n",
      "Genotype: 01110100011010000110100101110011001000000110100101110011001000000111001101101111001000000110110101110101011000110110100000100000011001100111010101101110\n",
      "Phenotype: this is so much fun\n",
      "Fitness: 19\n",
      "\n",
      "Current Generation: 120\n",
      "Genotype: 01110100011010000110100101110011001000000110100101110011001000000111001101101111001000000110110101110101011000110110100000100000011001100111010101101110\n",
      "Phenotype: this is so much fun\n",
      "Fitness: 19\n",
      "\n",
      "Final Generation\n",
      "Genotype: 01110100011010000110100101110011001000000110100101110011001000000111001101101111001000000110110101110101011000110110100000100000011001100111010101101110\n",
      "Phenotype: this is so much fun\n",
      "Fitness: 19\n"
     ]
    }
   ],
   "source": [
    "print(result1)"
   ]
  },
  {
   "cell_type": "markdown",
   "metadata": {},
   "source": [
    "## Problem 2\n",
    "\n",
    "You should have working code now.\n",
    "The goal here is to think a bit more about fitness functions.\n",
    "The target string is now, 'nuf hcum os si siht'.\n",
    "This is obviously target #1 but reversed.\n",
    "If we just wanted to match the string, this would be trivial.\n",
    "Instead, this problem, we want to \"decode\" the string so that the best individual displays the target forwards.\n",
    "In order to do this, you'll need to come up with a fitness function that measures how successful candidates are towards this goal.\n",
    "The constraint is that you may not perform any global operations on the target or individuals.\n",
    "Your fitness function must still compare a single gene against a single gene.\n",
    "Your solution will likely not be Pythonic but use indexing.\n",
    "That's ok.\n",
    "<div style=\"background: lemonchiffon; margin:20px; padding: 20px;\">\n",
    "    <strong>Important</strong>\n",
    "    <p>\n",
    "        You may not reverse an entire string (either target or candidate) at any time.\n",
    "        Everything must be a computation of one gene against one gene (one letter against one letter).\n",
    "        Failure to follow these directions will result in 0 points for the problem.\n",
    "    </p>\n",
    "</div>\n",
    "\n",
    "The best individual in the population is the one who expresses this string *forwards*."
   ]
  },
  {
   "cell_type": "code",
   "execution_count": 25,
   "metadata": {},
   "outputs": [],
   "source": [
    "target2 = \"nuf hcum os si siht\""
   ]
  },
  {
   "cell_type": "code",
   "execution_count": 26,
   "metadata": {},
   "outputs": [],
   "source": [
    "result2 = genetic_algorithm(target2, 50, 120, ALPHABET, 0.7, 0.7, calculate_fitness_reverse)"
   ]
  },
  {
   "cell_type": "code",
   "execution_count": 27,
   "metadata": {},
   "outputs": [
    {
     "name": "stdout",
     "output_type": "stream",
     "text": [
      "\n",
      "\n",
      "Current Generation: 10\n",
      "Genotype: 01101101011001010110100101101000011101100110100101110011011011010111001101110011011101000110101001110101011010110110100000100000011001100111100001110000\n",
      "Phenotype: meihvismsstjukh fxp\n",
      "Fitness: 8\n",
      "\n",
      "Current Generation: 20\n",
      "Genotype: 01110100011010000110100101110011001000000110100101110011011011010111001101110011011011000110101001110101011001110110100000100000011001100110001001101110\n",
      "Phenotype: this ismssljugh fbn\n",
      "Fitness: 13\n",
      "\n",
      "Current Generation: 30\n",
      "Genotype: 01110100011010000110100101110011001000000110100101110011011001010111001101101101011010110110101001110101011000110110100000100000011001100111010101101110\n",
      "Phenotype: this isesmkjuch fun\n",
      "Fitness: 15\n",
      "\n",
      "Current Generation: 40\n",
      "Genotype: 01110100011010000110100101110011011000100110100101110011001000000111001101110110001000000111011101110101011000110110100000100000011001100111010101101110\n",
      "Phenotype: thisbis sv wuch fun\n",
      "Fitness: 16\n",
      "\n",
      "Current Generation: 50\n",
      "Genotype: 01110100011010000110100101110011001000000110100101110011001000000111001101101111001000000111011101110101011000110110100000100000011001100111010101101110\n",
      "Phenotype: this is so wuch fun\n",
      "Fitness: 18\n",
      "\n",
      "Current Generation: 60\n",
      "Genotype: 01110100011010000110100101110011001000000110100101110011001000000111001101101111001000000110110101110101011000110110100000100000011001100111010101101110\n",
      "Phenotype: this is so much fun\n",
      "Fitness: 19\n",
      "\n",
      "Current Generation: 70\n",
      "Genotype: 01110100011010000110100101110011001000000110100101110011001000000111001101101111001000000110110101110101011000110110100000100000011001100111010101101110\n",
      "Phenotype: this is so much fun\n",
      "Fitness: 19\n",
      "\n",
      "Current Generation: 80\n",
      "Genotype: 01110100011010000110100101110011001000000110100101110011001000000111001101101111001000000110110101110101011000110110100000100000011001100111010101101110\n",
      "Phenotype: this is so much fun\n",
      "Fitness: 19\n",
      "\n",
      "Current Generation: 90\n",
      "Genotype: 01110100011010000110100101110011001000000110100101110011001000000111001101101111001000000110110101110101011000110110100000100000011001100111010101101110\n",
      "Phenotype: this is so much fun\n",
      "Fitness: 19\n",
      "\n",
      "Current Generation: 100\n",
      "Genotype: 01110100011010000110100101110011001000000110100101110011001000000111001101101111001000000110110101110101011000110110100000100000011001100111010101101110\n",
      "Phenotype: this is so much fun\n",
      "Fitness: 19\n",
      "\n",
      "Current Generation: 110\n",
      "Genotype: 01110100011010000110100101110011001000000110100101110011001000000111001101101111001000000110110101110101011000110110100000100000011001100111010101101110\n",
      "Phenotype: this is so much fun\n",
      "Fitness: 19\n",
      "\n",
      "Current Generation: 120\n",
      "Genotype: 01110100011010000110100101110011001000000110100101110011001000000111001101101111001000000110110101110101011000110110100000100000011001100111010101101110\n",
      "Phenotype: this is so much fun\n",
      "Fitness: 19\n",
      "\n",
      "Final Generation\n",
      "Genotype: 01110100011010000110100101110011001000000110100101110011001000000111001101101111001000000110110101110101011000110110100000100000011001100111010101101110\n",
      "Phenotype: this is so much fun\n",
      "Fitness: 19\n"
     ]
    }
   ],
   "source": [
    "print(result2)"
   ]
  },
  {
   "cell_type": "markdown",
   "metadata": {},
   "source": [
    "## Problem 3\n",
    "\n",
    "This is a variation on the theme of Problem 2.\n",
    "The Caeser Cypher replaces each letter of a string with the letter 13 characters down alphabet (rotating from \"z\" back to \"a\" as needed).\n",
    "This is also known as ROT13 (for \"rotate 13\").\n",
    "Latin did not have spaces (and the space is not continguous with the letters a-z) so we'll remove them from our alphabet.\n",
    "Again, the goal is to derive a fitness function that compares a single gene against a single gene, without global transformations.\n",
    "This fitness function assigns higher scores to individuals that correctly decode the target.\n",
    "\n",
    "<div style=\"background: lemonchiffon; margin:20px; padding: 20px;\">\n",
    "    <strong>Important</strong>\n",
    "    <p>\n",
    "        You may not apply ROT13 to an entire string (either target or candidate) at any time.\n",
    "        Everything must be a computation of one gene against one gene.\n",
    "        Failure to follow these directions will result in 0 points for the problem.\n",
    "    </p>\n",
    "</div>\n",
    "\n",
    "The best individual will express the target *decoded*."
   ]
  },
  {
   "cell_type": "code",
   "execution_count": 28,
   "metadata": {},
   "outputs": [],
   "source": [
    "ALPHABET3 = \"abcdefghijklmnopqrstuvwxyz\""
   ]
  },
  {
   "cell_type": "code",
   "execution_count": 29,
   "metadata": {},
   "outputs": [],
   "source": [
    "target3 = \"guvfvffbzhpusha\""
   ]
  },
  {
   "cell_type": "code",
   "execution_count": 30,
   "metadata": {},
   "outputs": [],
   "source": [
    "result3 = genetic_algorithm(target3, 50, 120, ALPHABET3, 0.7, 0.7, calculate_fitness_rot13)"
   ]
  },
  {
   "cell_type": "code",
   "execution_count": 31,
   "metadata": {},
   "outputs": [
    {
     "name": "stdout",
     "output_type": "stream",
     "text": [
      "\n",
      "\n",
      "Current Generation: 10\n",
      "Genotype: 011100000110100001101110011001100110100101110011011100110110111101110100011011000110000101100001011001100111010101101110\n",
      "Phenotype: phnfissotlaafun\n",
      "Fitness: 8\n",
      "\n",
      "Current Generation: 20\n",
      "Genotype: 011101000110100001100010011100110110100101110011011100110110111101111001011001010110001101101100011001100111010101101110\n",
      "Phenotype: thbsissoyeclfun\n",
      "Fitness: 11\n",
      "\n",
      "Current Generation: 30\n",
      "Genotype: 011101000110100001101001011100110110100101110011011100110110111101101101011011000110001101110000011001100111010101101110\n",
      "Phenotype: thisissomlcpfun\n",
      "Fitness: 13\n",
      "\n",
      "Current Generation: 40\n",
      "Genotype: 011101000110100001101001011100110110100101110011011100110110111101101101011001010110001101101000011001100111010101101110\n",
      "Phenotype: thisissomechfun\n",
      "Fitness: 14\n",
      "\n",
      "Current Generation: 50\n",
      "Genotype: 011101000110100001101001011100110110100101110011011100110110111101101101011101010110001101101000011001100111010101101110\n",
      "Phenotype: thisissomuchfun\n",
      "Fitness: 15\n",
      "\n",
      "Current Generation: 60\n",
      "Genotype: 011101000110100001101001011100110110100101110011011100110110111101101101011101010110001101101000011001100111010101101110\n",
      "Phenotype: thisissomuchfun\n",
      "Fitness: 15\n",
      "\n",
      "Current Generation: 70\n",
      "Genotype: 011101000110100001101001011100110110100101110011011100110110111101101101011101010110001101101000011001100111010101101110\n",
      "Phenotype: thisissomuchfun\n",
      "Fitness: 15\n",
      "\n",
      "Current Generation: 80\n",
      "Genotype: 011101000110100001101001011100110110100101110011011100110110111101101101011101010110001101101000011001100111010101101110\n",
      "Phenotype: thisissomuchfun\n",
      "Fitness: 15\n",
      "\n",
      "Current Generation: 90\n",
      "Genotype: 011101000110100001101001011100110110100101110011011100110110111101101101011101010110001101101000011001100111010101101110\n",
      "Phenotype: thisissomuchfun\n",
      "Fitness: 15\n",
      "\n",
      "Current Generation: 100\n",
      "Genotype: 011101000110100001101001011100110110100101110011011100110110111101101101011101010110001101101000011001100111010101101110\n",
      "Phenotype: thisissomuchfun\n",
      "Fitness: 15\n",
      "\n",
      "Current Generation: 110\n",
      "Genotype: 011101000110100001101001011100110110100101110011011100110110111101101101011101010110001101101000011001100111010101101110\n",
      "Phenotype: thisissomuchfun\n",
      "Fitness: 15\n",
      "\n",
      "Current Generation: 120\n",
      "Genotype: 011101000110100001101001011100110110100101110011011100110110111101101101011101010110001101101000011001100111010101101110\n",
      "Phenotype: thisissomuchfun\n",
      "Fitness: 15\n",
      "\n",
      "Final Generation\n",
      "Genotype: 011101000110100001101001011100110110100101110011011100110110111101101101011101010110001101101000011001100111010101101110\n",
      "Phenotype: thisissomuchfun\n",
      "Fitness: 15\n"
     ]
    }
   ],
   "source": [
    "print(result3)"
   ]
  },
  {
   "cell_type": "markdown",
   "metadata": {},
   "source": [
    "## Problem 4\n",
    "\n",
    "There is no code for this problem.\n",
    "\n",
    "In Problem 3, we assumed we knew what the shift was in ROT-13.\n",
    "What if we didn't?\n",
    "Describe how you might solve that problem including a description of the solution encoding (chromosome and interpretation) and fitness function. Assume we can add spaces into the message."
   ]
  },
  {
   "cell_type": "markdown",
   "metadata": {},
   "source": [
    "One way we could solve for an unknown shift is to do something similar to children with mutations and carying the best ones over to the next generation. We could start the process with a list of random shift values, and calculate our fitness with all of the values. Every child would take remember the shift that gave them their best fitness. We could then pick the best fitnesses and make our new shift pool out of those shift values and also generate a few new random ones to try."
   ]
  },
  {
   "cell_type": "markdown",
   "metadata": {},
   "source": [
    "## Challenge\n",
    "\n",
    "**You do not need to do this problem and it won't be graded if you do. It's just here if you want to push your understanding.**\n",
    "\n",
    "The original GA used binary encodings for everything.\n",
    "We're basically using a Base 27 encoding.\n",
    "You could, however, write a version of the algorithm that uses an 8 bit encoding for each letter (ignore spaces as they're a bit of a bother).\n",
    "That is, a 4 letter candidate looks like this:\n",
    "\n",
    "```\n",
    "0, 1, 1, 0, 1, 0, 0, 0, 0, 1, 1, 0, 0, 1, 0, 1, 0, 1, 1, 0, 1, 1, 0, 0, 0, 1, 1, 0, 1, 1, 0, 0, 0, 1, 1, 0, 1, 1, 1, 1\n",
    "```\n",
    "\n",
    "If you wrote your `genetic_algorithm` code general enough, with higher order functions, you should be able to implement it using bit strings instead of latin strings."
   ]
  },
  {
   "cell_type": "markdown",
   "metadata": {},
   "source": [
    "## Comments\n",
    "\n",
    "1. I liked this assignment a lot and I think I did all of the programming correctly unlike assignment1"
   ]
  },
  {
   "cell_type": "markdown",
   "metadata": {},
   "source": [
    "## Before You Submit...\n",
    "\n",
    "1. Did you provide output exactly as requested?\n",
    "2. Did you re-execute the entire notebook? (\"Restart Kernel and Rull All Cells...\")\n",
    "3. If you did not complete the assignment or had difficulty please explain what gave you the most difficulty in the Markdown cell below.\n",
    "4. Did you change the name of the file to `jhed_id.ipynb`?\n",
    "\n",
    "Do not submit any other files."
   ]
  }
 ],
 "metadata": {
  "kernelspec": {
   "display_name": "Python (en605645)",
   "language": "python",
   "name": "en605645"
  },
  "language_info": {
   "codemirror_mode": {
    "name": "ipython",
    "version": 3
   },
   "file_extension": ".py",
   "mimetype": "text/x-python",
   "name": "python",
   "nbconvert_exporter": "python",
   "pygments_lexer": "ipython3",
   "version": "3.8.8"
  },
  "toc": {
   "colors": {
    "hover_highlight": "#DAA520",
    "navigate_num": "#000000",
    "navigate_text": "#333333",
    "running_highlight": "#FF0000",
    "selected_highlight": "#FFD700",
    "sidebar_border": "#EEEEEE",
    "wrapper_background": "#FFFFFF"
   },
   "moveMenuLeft": true,
   "nav_menu": {
    "height": "120px",
    "width": "252px"
   },
   "navigate_menu": true,
   "number_sections": true,
   "sideBar": true,
   "threshold": 4,
   "toc_cell": false,
   "toc_section_display": "block",
   "toc_window_display": false,
   "widenNotebook": false
  }
 },
 "nbformat": 4,
 "nbformat_minor": 4
}
