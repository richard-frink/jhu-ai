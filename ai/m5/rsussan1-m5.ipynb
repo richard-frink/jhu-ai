{
 "cells": [
  {
   "cell_type": "markdown",
   "metadata": {},
   "source": [
    "# Module 5 - Programming Assignment\n",
    "\n",
    "## Directions\n",
    "\n",
    "1. Change the name of this file to be your JHED id as in `jsmith299.ipynb`. Because sure you use your JHED ID (it's made out of your name and not your student id which is just letters and numbers).\n",
    "2. Make sure the notebook you submit is cleanly and fully executed. I do not grade unexecuted notebooks.\n",
    "3. Submit your notebook back in Blackboard where you downloaded this file.\n",
    "\n",
    "*Provide the output **exactly** as requested*"
   ]
  },
  {
   "cell_type": "markdown",
   "metadata": {},
   "source": [
    "## Solving Normal Form Games"
   ]
  },
  {
   "cell_type": "code",
   "execution_count": 1,
   "metadata": {},
   "outputs": [],
   "source": [
    "from typing import List, Tuple, Dict, Callable"
   ]
  },
  {
   "cell_type": "markdown",
   "metadata": {},
   "source": [
    "In the lecture we talked about the Prisoner's Dilemma game, shown here in Normal Form:\n",
    "\n",
    "Player 1 / Player 2  | Defect | Cooperate\n",
    "------------- | ------------- | -------------\n",
    "Defect  | -5, -5 | -1, -10\n",
    "Cooperate  | -10, -1 | -2, -2\n",
    "\n",
    "where the payoff to Player 1 is the left number and the payoff to Player 2 is the right number. We can represent each payoff cell as a Tuple: `(-5, -5)`, for example. We can represent each row as a List of Tuples: `[(-5, -5), (-1, -10)]` would be the first row and the entire table as a List of Lists:"
   ]
  },
  {
   "cell_type": "code",
   "execution_count": 2,
   "metadata": {},
   "outputs": [
    {
     "data": {
      "text/plain": [
       "[[(-5, -5), (-1, -10)], [(-10, -1), (-2, -2)]]"
      ]
     },
     "execution_count": 2,
     "metadata": {},
     "output_type": "execute_result"
    }
   ],
   "source": [
    "prisoners_dilemma = [\n",
    " [( -5, -5), (-1,-10)],\n",
    " [(-10, -1), (-2, -2)]]\n",
    "\n",
    "prisoners_dilemma"
   ]
  },
  {
   "cell_type": "markdown",
   "metadata": {},
   "source": [
    "in which case the strategies are represented by indices into the List of Lists. For example, `(Defect, Cooperate)` for the above game becomes `prisoners_dilemma[ 0][ 1]` and returns the payoff `(-1, -10)` because 0 is the first row of the table (\"Defect\" for Player 1) and 1 is the 2nd column of the row (\"Cooperate\" for Player 2).\n",
    "\n",
    "For this assignment, you are going write a function that uses Successive Elimination of Dominated Strategies (SEDS) to find the **pure strategy** Nash Equilibrium of a Normal Form Game. The function is called `solve_game`:\n",
    "\n",
    "```python\n",
    "def solve_game( game: List[List[Tuple]], weak=False) -> Tuple:\n",
    "    pass # returns strategy indices of Nash equilibrium or None.\n",
    "```\n",
    "\n",
    "and it takes two parameters: the game, in a format that we described earlier and an optional boolean flag that controls whether the algorithm considers only **strongly dominated strategies** (the default will be false) or whether it should consider **weakly dominated strategies** as well.\n",
    "\n",
    "It should work with game matrices of any size and it will return the **strategy indices** of the Nash Equilibrium. If there is no **pure strategy** equilibrium that can be found using SEDS, return `None`.\n",
    "\n",
    "\n",
    "<div style=\"background: mistyrose; color: firebrick; border: 2px solid darkred; padding: 5px; margin: 10px;\">\n",
    "Do not return the payoff. That's not useful. Return the strategy indices, any other output is incorrect.\n",
    "</div>\n",
    "\n",
    "As before, you must provide your implementation in the space below, one Markdown cell for documentation and one Code cell for implementation, one function and assertations per Codecell.\n",
    "\n",
    "\n",
    "---"
   ]
  },
  {
   "cell_type": "markdown",
   "metadata": {},
   "source": [
    "<a id=\"is_losing_move\"></a>\n",
    "## is_losing_move\n",
    "\n",
    "Checks the the provided move against all provided moves to see if the move is a losing move or not.\n",
    "\n",
    "Variables\n",
    "* **move** List[int]: one move which is a list of 'cost' (integer) values\n",
    "* **moves** List[List[int]]: list of moves\n",
    "\n",
    "**returns** bool: True if the 'move' is a losing move"
   ]
  },
  {
   "cell_type": "code",
   "execution_count": 3,
   "metadata": {},
   "outputs": [],
   "source": [
    "def is_losing_move(move: List[int], moves: List[List[int]], weak: bool=False) -> bool:\n",
    "    for m in moves:\n",
    "        gt_count = 0\n",
    "        for i in range(len(move)):\n",
    "            if move == m:\n",
    "                continue\n",
    "            if move[i] < m[i]:\n",
    "                gt_count += 1\n",
    "        winning_to_beat = len(move) - 1\n",
    "        if weak == True:\n",
    "            winning_to_beat = (len(move) / 2)\n",
    "        if gt_count > winning_to_beat:\n",
    "            return True\n",
    "    return False"
   ]
  },
  {
   "cell_type": "code",
   "execution_count": 4,
   "metadata": {},
   "outputs": [],
   "source": [
    "assert is_losing_move([-5, -1], [[-5, -1], [-10, -2]]) == False\n",
    "assert is_losing_move([-10, -2], [[-5, -1], [-10, -2]]) == True\n",
    "assert is_losing_move([-10, -2], [[-10, -1], [-10, -2]], True) == False\n",
    "complex =  [\n",
    " [(1,3), (3,5), (6,8)],\n",
    " [(2,2), (4,4), (7,6)],\n",
    " [(3,1), (5,3), (8,7)]]\n",
    "assert is_losing_move([2,4,7], [[1,3,6],[2,4,7],[3,5,8]]) == True"
   ]
  },
  {
   "cell_type": "markdown",
   "metadata": {},
   "source": [
    "<a id=\"get_player_moves\"></a>\n",
    "## get_player_moves\n",
    "\n",
    "This goes through the game board and generate the lists of moves from the players based off the tuples provided.\n",
    "\n",
    "Variables\n",
    "* **game** List[List[Tuple]]: game board full of cost tuples\n",
    "\n",
    "**returns** two lists of player moves generated from the cost row/column tuples"
   ]
  },
  {
   "cell_type": "code",
   "execution_count": 5,
   "metadata": {},
   "outputs": [],
   "source": [
    "def get_player_moves(game: List[List[Tuple]]):\n",
    "    p1_moves = []\n",
    "    p2_moves = []\n",
    "    for row in range(len(game)):\n",
    "        move = []\n",
    "        for t in game[row]:\n",
    "            move.append(t[0])\n",
    "        p1_moves.append(move)\n",
    "    for col in range(len(game[0])):\n",
    "        move = []\n",
    "        for t in range(len(game)):\n",
    "            move.append(game[t][col][1])\n",
    "        p2_moves.append(move)\n",
    "    return p1_moves, p2_moves"
   ]
  },
  {
   "cell_type": "code",
   "execution_count": 6,
   "metadata": {},
   "outputs": [],
   "source": [
    "assert get_player_moves(prisoners_dilemma) == ([[-5, -1], [-10, -2]], [[-5, -1], [-10, -2]])\n",
    "assert get_player_moves([[(0, 1), (0,1)],[(2, 3), (4, 5)]]) == ([[0, 0], [2, 4]], [[1, 3], [1, 5]])\n",
    "complex =  [\n",
    " [(1,3), (3,5), (6,8)],\n",
    " [(2,2), (4,4), (7,6)],\n",
    " [(3,1), (5,3), (8,7)]]\n",
    "assert get_player_moves(complex) == ([[1,3,6],[2,4,7],[3,5,8]], [[3,2,1],[5,4,3],[8,6,7]])"
   ]
  },
  {
   "cell_type": "markdown",
   "metadata": {},
   "source": [
    "<a id=\"solve_game\"></a>\n",
    "## solve_game\n",
    "\n",
    "(not really sure how to get this down to <= 20 lines without just arbitrarily breaking the code up for what feels to me like no good reason so i'm leaving it at 28 lines)\n",
    "\n",
    "This does the following:\n",
    "- gets all player moves\n",
    "- checks for which moves are losing moves\n",
    "- builds a solution grid based off what moves are dominated\n",
    "- finds the nash equilibrium based off if if exists\n",
    "\n",
    "Variables\n",
    "* **game** List[List[Tuple]]: game board full of cost tuples\n",
    "* **weak** bool: this indicates if we should consider 'weak' strategies\n",
    "\n",
    "**returns** None or the index of the nash equilibrium strategy"
   ]
  },
  {
   "cell_type": "code",
   "execution_count": 7,
   "metadata": {},
   "outputs": [],
   "source": [
    "def solve_game(game: List[List[Tuple]], weak: bool=False) -> Tuple:\n",
    "    p1_moves, p2_moves = get_player_moves(game)\n",
    "    losing_p1_moves, losing_p2_moves = [], []\n",
    "    for i in range(len(p1_moves)):\n",
    "        if is_losing_move(p1_moves[i], p1_moves, weak):\n",
    "            losing_p1_moves.append(i)\n",
    "    for i in range(len(p2_moves)):\n",
    "        if is_losing_move(p2_moves[i], p2_moves, weak):\n",
    "            losing_p2_moves.append(i)\n",
    "    solution = []\n",
    "    for r in range(len(game)):\n",
    "        row = []\n",
    "        for c in range(len(game[r])):\n",
    "            t0, t1 = '', ''\n",
    "            if r in losing_p1_moves:\n",
    "                t0 = 'L'\n",
    "            if c in losing_p2_moves:\n",
    "                t1 = 'L'\n",
    "            row.append((t0, t1))\n",
    "        solution.append(row)\n",
    "    possible_wins = []\n",
    "    for r in range(len(solution)):\n",
    "        for c in range(len(solution[r])):\n",
    "            if solution[r][c][0] == '' and solution[r][c][1] == '':\n",
    "                possible_wins.append((r,c))\n",
    "    if len(possible_wins) == 1 or (weak == True and len(possible_wins) > 0):\n",
    "        return possible_wins[0]\n",
    "    return None"
   ]
  },
  {
   "cell_type": "markdown",
   "metadata": {},
   "source": [
    "## Additional Directions\n",
    "\n",
    "Create three games as described and according to the following:\n",
    "\n",
    "1. Your games must be created and solved \"by hand\".\n",
    "2. The strategy pairs must **not** be on the main diagonal (0, 0), (1, 1), or (2, 2). And the solution cannot be the same for both Game 1 and Game 2.\n",
    "3. Make sure you fill out the Markdown (\"?\") with your game as well as the solution (\"?\").\n",
    "4. Remember, **do not return the payoff**, return the strategy indices.\n",
    "\n",
    "For games that can be solved with *weak* SEDS, there may be more than one solution. You only need to return the first solution found. However, if you would like to return all solutions, you can implement `solve_game` as state space search."
   ]
  },
  {
   "cell_type": "markdown",
   "metadata": {},
   "source": [
    "### Test Game 1. Create a 3x3 two player game\n",
    "\n",
    "**that can only be solved using the Successive Elimintation of Strongly Dominated Strategies**\n",
    "\n",
    "| Player 1 / Player 2  | 0 | 1 | 2 |\n",
    "|----|----|----|----|\n",
    "|0  | 0,1 | 1,10 | 3,5 |\n",
    "|1  | 1,3 | 3,5 | 5,0 |\n",
    "|2  | 8,0 | **7,9** | 6,7 |\n",
    "\n",
    "**Solution:**? (strategy indices)"
   ]
  },
  {
   "cell_type": "code",
   "execution_count": 8,
   "metadata": {},
   "outputs": [
    {
     "name": "stdout",
     "output_type": "stream",
     "text": [
      "(2, 1)\n"
     ]
    }
   ],
   "source": [
    "test_game_1 = [[(0,1), (1,10), (3,5)], [(1,3), (3,5), (5,0)], [(8,0), (7,9), (6,7)]]\n",
    "\n",
    "solution = solve_game(test_game_1)\n",
    "print(solution)"
   ]
  },
  {
   "cell_type": "code",
   "execution_count": 9,
   "metadata": {},
   "outputs": [],
   "source": [
    "assert solution == (2,1)"
   ]
  },
  {
   "cell_type": "markdown",
   "metadata": {},
   "source": [
    "### Test Game 2. Create a 3x3 two player game\n",
    "\n",
    "**that can only be solved using the Successive Elimintation of Weakly Dominated Strategies**\n",
    "\n",
    "| Player 1 / Player 2  | 0 | 1 | 2 |\n",
    "|----|----|----|----|\n",
    "|0  | 0,1 | 1,3 | 3,5 |\n",
    "|1  | 7,3 | **3,5** | 5,0 |\n",
    "|2  | 3,0 | 2,9 | 1,7 |\n",
    "\n",
    "**Solution:**? (strategy indices)"
   ]
  },
  {
   "cell_type": "code",
   "execution_count": 10,
   "metadata": {},
   "outputs": [],
   "source": [
    "test_game_2 = [[(0,1), (1,3), (3,5)], [(1,3), (3,5), (5,0)], [(3,0), (2,9), (1,7)]]\n",
    "\n",
    "strong_solution = solve_game(test_game_2)\n",
    "weak_solution = solve_game(test_game_2, weak=True)"
   ]
  },
  {
   "cell_type": "code",
   "execution_count": 11,
   "metadata": {},
   "outputs": [],
   "source": [
    "assert strong_solution == None\n",
    "assert weak_solution == (1,1)"
   ]
  },
  {
   "cell_type": "markdown",
   "metadata": {},
   "source": [
    "### Test Game 3. Create a 3x3 two player game\n",
    "\n",
    "**that cannot be solved using the Successive Elimintation of Dominated Strategies at all**\n",
    "\n",
    "| Player 1 / Player 2  | 0 | 1 | 2 |\n",
    "|----|----|----|----|\n",
    "|0  | 7,1 | 4,3 | 3,5 |\n",
    "|1  | 7,3 | 3,5 | 5,0 |\n",
    "|2  | 3,5 | 2,2 | 1,4 |\n",
    "\n",
    "**Solution:** None"
   ]
  },
  {
   "cell_type": "code",
   "execution_count": 12,
   "metadata": {},
   "outputs": [],
   "source": [
    "test_game_3 = [[(7,1), (4,3), (3,5)], [(7,3), (3,5), (5,0)], [(3,5), (2,2), (1,4)]]\n",
    "\n",
    "strong_solution = solve_game( test_game_3)\n",
    "weak_solution = solve_game( test_game_3, weak=True)"
   ]
  },
  {
   "cell_type": "code",
   "execution_count": 13,
   "metadata": {},
   "outputs": [],
   "source": [
    "assert strong_solution == None\n",
    "assert weak_solution == None"
   ]
  },
  {
   "cell_type": "markdown",
   "metadata": {},
   "source": [
    "## Before You Submit...\n",
    "\n",
    "1. Did you provide output exactly as requested? **Don't forget to fill out the Markdown tables with your games**.\n",
    "2. Did you re-execute the entire notebook? (\"Restart Kernel and Rull All Cells...\")\n",
    "3. If you did not complete the assignment or had difficulty please explain what gave you the most difficulty in the Markdown cell below.\n",
    "4. Did you change the name of the file to `jhed_id.ipynb`?\n",
    "\n",
    "Do not submit any other files."
   ]
  },
  {
   "cell_type": "markdown",
   "metadata": {},
   "source": []
  }
 ],
 "metadata": {
  "kernelspec": {
   "display_name": "Python (en605645)",
   "language": "python",
   "name": "en605645"
  },
  "language_info": {
   "codemirror_mode": {
    "name": "ipython",
    "version": 3
   },
   "file_extension": ".py",
   "mimetype": "text/x-python",
   "name": "python",
   "nbconvert_exporter": "python",
   "pygments_lexer": "ipython3",
   "version": "3.8.8"
  },
  "toc": {
   "colors": {
    "hover_highlight": "#DAA520",
    "navigate_num": "#000000",
    "navigate_text": "#333333",
    "running_highlight": "#FF0000",
    "selected_highlight": "#FFD700",
    "sidebar_border": "#EEEEEE",
    "wrapper_background": "#FFFFFF"
   },
   "moveMenuLeft": true,
   "nav_menu": {
    "height": "135px",
    "width": "252px"
   },
   "navigate_menu": true,
   "number_sections": true,
   "sideBar": true,
   "threshold": 4,
   "toc_cell": false,
   "toc_section_display": "block",
   "toc_window_display": false,
   "widenNotebook": false
  }
 },
 "nbformat": 4,
 "nbformat_minor": 4
}
