{
 "cells": [
  {
   "cell_type": "markdown",
   "metadata": {},
   "source": [
    "# Module 1 - Programming Assignment\n",
    "\n",
    "## General Directions\n",
    "\n",
    "1. You must follow the Programming Requirements outlined on Canvas.\n",
    "2. The Notebook should be cleanly and fully executed before submission.\n",
    "3. You should change the name of this file to be your JHED id. For example, `jsmith299.ipynb` although Canvas will change it to something else... :/\n",
    "\n",
    "<div style=\"background: lemonchiffon; margin:20px; padding: 20px;\">\n",
    "    <strong>Important</strong>\n",
    "    <p>\n",
    "        You should always read the entire assignment before beginning your work, so that you know in advance what the requested output will be and can plan your implementation accordingly.\n",
    "    </p>\n",
    "</div>"
   ]
  },
  {
   "cell_type": "markdown",
   "metadata": {},
   "source": [
    "# State Space Search with A* Search\n",
    "\n",
    "You are going to implement the A\\* Search algorithm for navigation problems.\n",
    "\n",
    "\n",
    "## Motivation\n",
    "\n",
    "Search is often used for path-finding in video games. Although the characters in a video game often move in continuous spaces,\n",
    "it is trivial to layout a \"waypoint\" system as a kind of navigation grid over the continuous space. Then if the character needs\n",
    "to get from Point A to Point B, it does a line of sight (LOS) scan to find the nearest waypoint (let's call it Waypoint A) and\n",
    "finds the nearest, LOS waypoint to Point B (let's call it Waypoint B). The agent then does a A* search for Waypoint B from Waypoint A to find the shortest path. The entire path is thus Point A to Waypoint A to Waypoint B to Point B.\n",
    "\n",
    "We're going to simplify the problem by working in a grid world. The symbols that form the grid have a special meaning as they\n",
    "specify the type of the terrain and the cost to enter a grid cell with that type of terrain:\n",
    "\n",
    "```\n",
    "token   terrain    cost \n",
    "🌾       plains     1\n",
    "🌲       forest     3\n",
    "🪨       hills      5\n",
    "🐊       swamp      7\n",
    "🗻       mountains  impassible\n",
    "```\n",
    "\n",
    "We can think of the raw format of the map as being something like:\n",
    "\n",
    "```\n",
    "🌾🌾🌾🌾🌲🌾🌾\n",
    "🌾🌾🌾🌲🌲🌲🌾\n",
    "🌾🗻🗻🗻🌾🌾🌾\n",
    "🌾🌾🗻🗻🌾🌾🌾\n",
    "🌾🌾🗻🌾🌾🌲🌲\n",
    "🌾🌾🌾🌾🌲🌲🌲\n",
    "🌾🌾🌾🌾🌾🌾🌾\n",
    "```"
   ]
  },
  {
   "cell_type": "markdown",
   "metadata": {},
   "source": [
    "## The World\n",
    "\n",
    "Given a map like the one above, we can easily represent each row as a `List` and the entire map as `List of Lists`:"
   ]
  },
  {
   "cell_type": "code",
   "execution_count": 1,
   "metadata": {},
   "outputs": [],
   "source": [
    "full_world = [\n",
    "['🌾', '🌾', '🌾', '🌾', '🌾', '🌲', '🌲', '🌲', '🌲', '🌲', '🌲', '🌲', '🌲', '🌲', '🌲', '🌾', '🌾', '🌾', '🌾', '🌾', '🌾', '🌾', '🌾', '🌾', '🌾', '🌾', '🌾'],\n",
    "['🌾', '🌾', '🌾', '🌾', '🌾', '🌾', '🌾', '🌲', '🌲', '🌲', '🌲', '🌲', '🌲', '🌲', '🌲', '🌲', '🌾', '🌾', '🗻', '🗻', '🗻', '🗻', '🗻', '🗻', '🗻', '🌾', '🌾'],\n",
    "['🌾', '🌾', '🌾', '🌾', '🗻', '🗻', '🌲', '🌲', '🌲', '🌲', '🌲', '🌲', '🌲', '🌲', '🌲', '🌲', '🌲', '🗻', '🗻', '🗻', '⛰', '⛰', '⛰', '🗻', '🗻', '⛰', '⛰'],\n",
    "['🌾', '🌾', '🌾', '🌾', '⛰', '🗻', '🗻', '🗻', '🌲', '🌲', '🌲', '🌲', '🐊', '🐊', '🌲', '🌲', '🌲', '🌲', '🌲', '🌾', '🌾', '⛰', '⛰', '🗻', '🗻', '⛰', '🌾'],\n",
    "['🌾', '🌾', '🌾', '⛰', '⛰', '🗻', '🗻', '🌲', '🌲', '🌾', '🌾', '🐊', '🐊', '🐊', '🐊', '🌲', '🌲', '🌲', '🌾', '🌾', '🌾', '⛰', '🗻', '🗻', '🗻', '⛰', '🌾'],\n",
    "['🌾', '⛰', '⛰', '⛰', '🗻', '🗻', '⛰', '⛰', '🌾', '🌾', '🌾', '🌾', '🐊', '🐊', '🐊', '🐊', '🐊', '🌾', '🌾', '🌾', '🌾', '🌾', '⛰', '🗻', '⛰', '🌾', '🌾'],\n",
    "['🌾', '⛰', '⛰', '🗻', '🗻', '⛰', '⛰', '🌾', '🌾', '🌾', '🌾', '⛰', '🗻', '🗻', '🗻', '🐊', '🐊', '🐊', '🌾', '🌾', '🌾', '🌾', '🌾', '⛰', '🌾', '🌾', '🌾'],\n",
    "['🌾', '🌾', '⛰', '⛰', '⛰', '⛰', '⛰', '🌾', '🌾', '🌾', '🌾', '🌾', '🌾', '⛰', '🗻', '🗻', '🗻', '🐊', '🐊', '🐊', '🌾', '🌾', '⛰', '⛰', '⛰', '🌾', '🌾'],\n",
    "['🌾', '🌾', '🌾', '⛰', '⛰', '⛰', '🌾', '🌾', '🌾', '🌾', '🌾', '🌾', '⛰', '⛰', '🗻', '🗻', '🌾', '🐊', '🐊', '🌾', '🌾', '⛰', '⛰', '⛰', '🌾', '🌾', '🌾'],\n",
    "['🌾', '🌾', '🌾', '🐊', '🐊', '🐊', '🌾', '🌾', '⛰', '⛰', '⛰', '🗻', '🗻', '🗻', '🗻', '🌾', '🌾', '🌾', '🐊', '🌾', '⛰', '⛰', '⛰', '🌾', '🌾', '🌾', '🌾'],\n",
    "['🌾', '🌾', '🐊', '🐊', '🐊', '🐊', '🐊', '🌾', '⛰', '⛰', '🗻', '🗻', '🗻', '⛰', '🌾', '🌾', '🌾', '🌾', '🌾', '⛰', '🗻', '🗻', '🗻', '⛰', '🌾', '🌾', '🌾'],\n",
    "['🌾', '🐊', '🐊', '🐊', '🐊', '🐊', '🌾', '🌾', '⛰', '🗻', '🗻', '⛰', '🌾', '🌾', '🌾', '🌾', '🐊', '🐊', '🌾', '🌾', '⛰', '🗻', '🗻', '⛰', '🌾', '🌾', '🌾'],\n",
    "['🐊', '🐊', '🐊', '🐊', '🐊', '🌾', '🌾', '⛰', '⛰', '🗻', '🗻', '⛰', '🌾', '🐊', '🐊', '🐊', '🐊', '🌾', '🌾', '🌾', '⛰', '🗻', '⛰', '🌾', '🌾', '🌾', '🌾'],\n",
    "['🌾', '🐊', '🐊', '🐊', '🐊', '🌾', '🌾', '⛰', '🌲', '🌲', '⛰', '🌾', '🌾', '🌾', '🌾', '🐊', '🐊', '🐊', '🐊', '🌾', '🌾', '⛰', '🌾', '🌾', '🌾', '🌾', '🌾'],\n",
    "['🌾', '🌾', '🌾', '🌾', '🗻', '🌾', '🌾', '🌲', '🌲', '🌲', '🌲', '⛰', '⛰', '⛰', '⛰', '🌾', '🐊', '🐊', '🐊', '🌾', '🌾', '⛰', '🗻', '⛰', '🌾', '🌾', '🌾'],\n",
    "['🌾', '🌾', '🌾', '🗻', '🗻', '🗻', '🌲', '🌲', '🌲', '🌲', '🌲', '🌲', '🗻', '🗻', '🗻', '⛰', '⛰', '🌾', '🐊', '🌾', '⛰', '🗻', '🗻', '⛰', '🌾', '🌾', '🌾'],\n",
    "['🌾', '🌾', '🗻', '🗻', '🌲', '🌲', '🌲', '🌲', '🌲', '🌲', '🌲', '🌲', '🌲', '🌲', '🗻', '🗻', '🗻', '🌾', '🌾', '🗻', '🗻', '🗻', '🌾', '🌾', '🌾', '🌾', '🌾'],\n",
    "['🌾', '🌾', '🌾', '🗻', '🗻', '🌲', '🌲', '🌲', '🌲', '🌲', '🌲', '🌲', '🌲', '🌲', '🌲', '🌲', '🗻', '🗻', '🗻', '🗻', '🌾', '🌾', '🌾', '🌾', '🌾', '🌾', '🌾'],\n",
    "['🌾', '🌾', '🌾', '🗻', '🗻', '🗻', '🌲', '🌲', '🌲', '🌲', '🌲', '🌲', '🌲', '🌲', '🌾', '🌾', '🌾', '⛰', '⛰', '🌾', '🌾', '🌾', '🌾', '🌾', '🌾', '🌾', '🌾'],\n",
    "['🌾', '🌾', '🌾', '🌾', '🗻', '🗻', '🗻', '🌲', '🌲', '🌲', '🌲', '🌲', '🌲', '🌾', '🌾', '🌾', '🌾', '🌾', '🌾', '🌾', '🌾', '🌾', '🌾', '🐊', '🐊', '🐊', '🐊'],\n",
    "['🌾', '🌾', '⛰', '⛰', '⛰', '⛰', '🗻', '🗻', '🌲', '🌲', '🌲', '🌲', '🌲', '🌾', '🗻', '🌾', '🌾', '🌾', '🌾', '🌾', '🐊', '🐊', '🐊', '🐊', '🐊', '🐊', '🐊'],\n",
    "['🌾', '🌾', '🌾', '🌾', '⛰', '⛰', '⛰', '🗻', '🗻', '🗻', '🌲', '🌲', '🗻', '🗻', '🌾', '🌾', '🌾', '🌾', '🌾', '🌾', '🐊', '🐊', '🐊', '🐊', '🐊', '🐊', '🐊'],\n",
    "['🌾', '🌾', '🌾', '🌾', '🌾', '🌾', '⛰', '⛰', '⛰', '🗻', '🗻', '🗻', '🗻', '🌾', '🌾', '🌾', '🌾', '⛰', '⛰', '🌾', '🌾', '🐊', '🐊', '🐊', '🐊', '🐊', '🐊'],\n",
    "['🌾', '⛰', '⛰', '🌾', '🌾', '⛰', '⛰', '⛰', '⛰', '⛰', '🌾', '🌾', '🌾', '🌾', '🌾', '⛰', '⛰', '🗻', '🗻', '⛰', '⛰', '🌾', '🐊', '🐊', '🐊', '🐊', '🐊'],\n",
    "['⛰', '🗻', '⛰', '⛰', '⛰', '⛰', '🌾', '🌾', '🌾', '🌾', '🌾', '🗻', '🗻', '🗻', '⛰', '⛰', '🗻', '🗻', '🌾', '🗻', '🗻', '⛰', '⛰', '🐊', '🐊', '🐊', '🐊'],\n",
    "['⛰', '🗻', '🗻', '🗻', '⛰', '🌾', '🌾', '🌾', '🌾', '🌾', '⛰', '⛰', '🗻', '🗻', '🗻', '🗻', '⛰', '⛰', '⛰', '⛰', '🗻', '🗻', '🗻', '🐊', '🐊', '🐊', '🐊'],\n",
    "['⛰', '⛰', '🌾', '🌾', '🌾', '🌾', '🌾', '🌾', '🌾', '🌾', '🌾', '🌾', '⛰', '⛰', '⛰', '⛰', '⛰', '🌾', '🌾', '🌾', '🌾', '⛰', '⛰', '⛰', '🌾', '🌾', '🌾']\n",
    "]"
   ]
  },
  {
   "cell_type": "markdown",
   "metadata": {},
   "source": [
    "## Warning\n",
    "\n",
    "One implication of this representation is that (x, y) is world[ y][ x] so that (3, 2) is world[ 2][ 3] and world[ 7][ 9] is (9, 7). Yes, there are many ways to do this. I picked this representation because when you look at it, it *looks* like a regular x, y cartesian grid and it's easy to print out.\n",
    "\n",
    "It is often easier to begin your programming by operating on test input that has an obvious solution. If we had a small 7x7 world with the following characteristics:"
   ]
  },
  {
   "cell_type": "code",
   "execution_count": 2,
   "metadata": {},
   "outputs": [],
   "source": [
    "test_world = [\n",
    "    ['🌾', '🌲', '🌲', '🌲', '🌲', '🌲', '🌲'],\n",
    "    ['🌾', '🌲', '🌲', '🌲', '🌲', '🌲', '🌲'],\n",
    "    ['🌾', '🌲', '🌲', '🌲', '🌲', '🌲', '🌲'],\n",
    "    ['🌾', '🌾', '🌾', '🌾', '🌾', '🌾', '🌾'],\n",
    "    ['🌲', '🌲', '🌲', '🌲', '🌲', '🌲', '🌾'],\n",
    "    ['🌲', '🌲', '🌲', '🌲', '🌲', '🌲', '🌾'],\n",
    "    ['🌲', '🌲', '🌲', '🌲', '🌲', '🌲', '🌾']\n",
    "]"
   ]
  },
  {
   "cell_type": "markdown",
   "metadata": {},
   "source": [
    "**what do you expect the policy would be?** Think about it for a bit. This will help you with your programming and debugging."
   ]
  },
  {
   "cell_type": "markdown",
   "metadata": {},
   "source": [
    "## States and State Representation\n",
    "\n",
    "The canonical pieces of a State Space Search problem are the States, Actions, Transitions and Costs. \n",
    "\n",
    "We'll start with the state representation. For the navigation problem, a state is the current position of the agent, `(x,y)`. The entire set of possible states is implicitly represented by the world map."
   ]
  },
  {
   "cell_type": "markdown",
   "metadata": {},
   "source": [
    "## Actions and Transitions\n",
    "\n",
    "Next we need to specify the actions. In general, there are a number of different possible action sets in such a world. The agent might be constrained to move north/south/east/west or diagonal moves might be permitted as well (or really anything). When combined with the set of States, the *permissible* actions forms the Transition set.\n",
    "\n",
    "Rather than enumerate the Transition set directly, for this problem it's easier to calculate the available actions and transitions on the fly. This can be done by specifying a *movement model* as offsets to the current state and then checking to see which of the potential successor states are actually permitted. This can be done in the successor function mentioned in the pseudocode.\n",
    "\n",
    "One such example of a movement model is shown below."
   ]
  },
  {
   "cell_type": "code",
   "execution_count": 3,
   "metadata": {},
   "outputs": [],
   "source": [
    "MOVES = [(0,-1), (1,0), (0,1), (-1,0)]"
   ]
  },
  {
   "cell_type": "markdown",
   "metadata": {},
   "source": [
    "## Costs\n",
    "\n",
    "We can encode the costs described above in a `Dict`:"
   ]
  },
  {
   "cell_type": "code",
   "execution_count": 4,
   "metadata": {},
   "outputs": [],
   "source": [
    "COSTS = { '🌾': 1, '🌲': 3, '⛰': 5, '🐊': 7, '🗻': 99999}"
   ]
  },
  {
   "cell_type": "markdown",
   "metadata": {},
   "source": [
    "## Specification\n",
    "\n",
    "You will implement a function called `a_star_search` that takes the parameters and returns the value as specified below. The return value is going to look like this:\n",
    "\n",
    "`[(0,1), (0,1), (0,1), (1,0), (1,0), (1,0), (1,0), (1,0), (1,0), (0,1), (0,1), (0,1)]`\n",
    "\n",
    "You should also implement a function called `pretty_print_path`. \n",
    "The `pretty_print_path` function prints an ASCII representation of the path generated by the `a_star_search` on top of the terrain map. \n",
    "For example, for the test world, it would print this:\n",
    "\n",
    "```\n",
    "⏬🌲🌲🌲🌲🌲🌲\n",
    "⏬🌲🌲🌲🌲🌲🌲\n",
    "⏬🌲🌲🌲🌲🌲🌲\n",
    "⏩⏩⏩⏩⏩⏩⏬\n",
    "🌲🌲🌲🌲🌲🌲⏬\n",
    "🌲🌲🌲🌲🌲🌲⏬\n",
    "🌲🌲🌲🌲🌲🌲🎁\n",
    "```\n",
    "\n",
    "using ⏩,⏪,⏫ ⏬ to represent actions and `🎁` to represent the goal. (Note the format of the output...there are no spaces, commas, or extraneous characters). You are printing the path over the terrain.\n",
    "This is an impure function (it does not return anything).\n",
    "\n",
    "Note that in Python:\n",
    "```\n",
    "> a = [\"*\", \"-\", \"*\"]\n",
    "> \"\".join(a)\n",
    "*-*\n",
    "```\n",
    "Do not print raw data structures; do not insert unneeded/requested spaces!\n",
    "\n",
    "### Additional comments\n",
    "\n",
    "As Python is an interpreted language, you're going to need to insert all of your functions *before* the actual `a_star_search` function implementation. \n",
    "Do not make unwarranted assumptions (for example, do not assume that the start is always (0, 0).\n",
    "Do not refer to global variables, pass them as parameters (functional programming).\n",
    "\n",
    "Simple and correct is better than inefficient and incorrect, or worse, incomplete.\n",
    "For example, you can use a simple List, with some helper functions, as a Stack or a Queue or a Priority Queue.\n",
    "Avoid the Python implementations of HeapQ, PriorityQueue implementation unless you are very sure about what you're doing as they require *immutable* keys."
   ]
  },
  {
   "cell_type": "code",
   "execution_count": 5,
   "metadata": {},
   "outputs": [],
   "source": [
    "from typing import List, Tuple, Dict, Callable\n",
    "from copy import deepcopy"
   ]
  },
  {
   "cell_type": "markdown",
   "metadata": {},
   "source": [
    "*add as many markdown and code cells here as you need for helper functions. We have added `heuristic` for you*"
   ]
  },
  {
   "cell_type": "markdown",
   "metadata": {},
   "source": [
    "<a id=\"find_successors\"></a>\n",
    "## find_successors\n",
    "\n",
    "This will use the valid moves to find all successors for a given starting point. There is logic to consider staying within world boundaries.\n",
    "\n",
    "* **point** Tuple[int, int]: the current location of the bot, `(x, y)`.\n",
    "* **world** List[List[str]]: the actual context for the navigation problem.\n",
    "* **moves** List[Tuple[int, int]]: the legal movement model expressed in offsets in **world**.\n",
    "\n",
    "**returns** List[Tuple[int,int]]: the list of successor points to the current point"
   ]
  },
  {
   "cell_type": "code",
   "execution_count": 6,
   "metadata": {},
   "outputs": [],
   "source": [
    "def find_successors(point: Tuple[int,int], world: List[List[str]], moves: List[Tuple[int,int]]):\n",
    "    successors = []\n",
    "    for move in moves:\n",
    "        new_point = (point[0] + move[0], point[1] + move[1])\n",
    "        if new_point[0] < 0 or new_point[1] < 0:\n",
    "            continue\n",
    "        elif new_point[0] >= len(world) or new_point[1] >= len(world[0]):\n",
    "            continue\n",
    "        successors.append(new_point)\n",
    "    return successors"
   ]
  },
  {
   "cell_type": "code",
   "execution_count": 7,
   "metadata": {},
   "outputs": [],
   "source": [
    "point1 = (0,0)\n",
    "point2 = (3,2)\n",
    "point3 = (6,6)\n",
    "assert find_successors(point1, test_world, MOVES) == [(1, 0), (0, 1)]\n",
    "assert find_successors(point2, test_world, MOVES) == [(3, 1), (4, 2), (3, 3), (2, 2)]\n",
    "assert find_successors(point3, test_world, MOVES) == [(6, 5), (5, 6)]"
   ]
  },
  {
   "cell_type": "markdown",
   "metadata": {},
   "source": [
    "<a id=\"heuristic\"></a>\n",
    "## heuristic\n",
    "\n",
    "The heuristic i am using is going to be the pythagorean theorom from the 'start' to the 'goal' using their x,y coordinates.\n",
    "\n",
    "* **start** Tuple[int, int]: the starting location of the bot, `(x, y)`.\n",
    "* **goal** Tuple[int, int]: the desired goal position for the bot, `(x, y)`.\n",
    "\n",
    "**returns** int: the heuristic value for the 'start' node"
   ]
  },
  {
   "cell_type": "code",
   "execution_count": 8,
   "metadata": {},
   "outputs": [],
   "source": [
    "def heuristic(start: Tuple[int,int], goal: Tuple[int,int]): # you can add formal parameters\n",
    "    return round(pow(pow(abs(start[0] - goal[0]),2) + pow(abs(start[1] - goal[1]),2), 1/2),0)"
   ]
  },
  {
   "cell_type": "code",
   "execution_count": 9,
   "metadata": {},
   "outputs": [],
   "source": [
    "test_a = (1,5)\n",
    "test_b = (10,10)\n",
    "test_c = (7,2)\n",
    "test_d = (9,9)\n",
    "assert heuristic(test_a, test_b) == 10\n",
    "assert heuristic(test_c, test_b) == 9\n",
    "assert heuristic(test_d, test_b) == 1"
   ]
  },
  {
   "cell_type": "markdown",
   "metadata": {},
   "source": [
    "<a id=\"get_complex_cost_from_path\"></a>\n",
    "## get_complex_cost_from_path\n",
    "\n",
    "This iterates through the provided path finding the true cost of every point using the cost and heuristic values.\n",
    "\n",
    "* **path** List[Tuple[int, int]]: the path travelled.\n",
    "* **costs** Dict[str, int]: is a `Dict` of costs for each type of terrain in **world**.\n",
    "* **world** List[List[str]]: the actual context for the navigation problem.\n",
    "* **goal** Tuple[int, int]: the desired goal position for the bot, `(x, y)`.\n",
    "\n",
    "**returns** int: the total cost of the path using the cost and heuristic values.\n"
   ]
  },
  {
   "cell_type": "code",
   "execution_count": 10,
   "metadata": {},
   "outputs": [],
   "source": [
    "def get_complex_cost_from_path(path: List[Tuple[int,int]], costs: Dict[str, int], world: List[List[str]], goal: Tuple[int, int]):\n",
    "    return sum([costs[world[point[0]][point[1]]] + heuristic(point, goal) for point in path])"
   ]
  },
  {
   "cell_type": "code",
   "execution_count": 11,
   "metadata": {},
   "outputs": [],
   "source": [
    "test_list1 = [(0,0),(1,0),(2,0)]\n",
    "test_list2 = [(1,0),(2,0),(3,0)]\n",
    "test_list3 = [(0,0),(0,1),(0,2)]\n",
    "test_list4 = [(0,0)]\n",
    "goal = [len(test_world), len(test_world[0])]\n",
    "assert get_complex_cost_from_path(test_list1, COSTS, test_world, goal) == 31\n",
    "assert get_complex_cost_from_path(test_list2, COSTS, test_world, goal) == 29\n",
    "assert get_complex_cost_from_path(test_list3, COSTS, test_world, goal) == 35\n",
    "assert get_complex_cost_from_path(test_list4, COSTS, test_world, goal) == 11"
   ]
  },
  {
   "cell_type": "markdown",
   "metadata": {},
   "source": [
    "<a id=\"get_cost_from_path\"></a>\n",
    "## get_cost_from_path\n",
    "\n",
    "This iterates through the provided path finding the cost of every point using only the cost values.\n",
    "\n",
    "* **path** List[Tuple[int, int]]: the path travelled.\n",
    "* **costs** Dict[str, int]: is a `Dict` of costs for each type of terrain in **world**.\n",
    "* **world** List[List[str]]: the actual context for the navigation problem.\n",
    "* **goal** Tuple[int, int]: the desired goal position for the bot, `(x, y)`.\n",
    "\n",
    "**returns** int: the total cost of the path using the cost values.\n"
   ]
  },
  {
   "cell_type": "code",
   "execution_count": 12,
   "metadata": {},
   "outputs": [],
   "source": [
    "# this is going to get the total cost of all the points in the passed in list using the passed in world and costs\n",
    "def get_cost_from_path(path: List[Tuple[int,int]], costs: Dict[str, int], world: List[List[str]], goal: Tuple[int, int]):\n",
    "    return sum([costs[world[point[0]][point[1]]] for point in path])"
   ]
  },
  {
   "cell_type": "code",
   "execution_count": 13,
   "metadata": {},
   "outputs": [],
   "source": [
    "test_list1 = [(0,0),(1,0),(2,0)]\n",
    "test_list2 = [(1,0),(2,0),(3,0)]\n",
    "test_list3 = [(0,0),(0,1),(0,2)]\n",
    "goal = [len(test_world), len(test_world[0])]\n",
    "assert get_cost_from_path(test_list1, COSTS, test_world, goal) == 3\n",
    "assert get_cost_from_path(test_list2, COSTS, test_world, goal) == 3\n",
    "assert get_cost_from_path(test_list3, COSTS, test_world, goal) == 7"
   ]
  },
  {
   "cell_type": "markdown",
   "metadata": {},
   "source": [
    "<a id=\"get_cheapest_point_index\"></a>\n",
    "## get_cheapest_point_index\n",
    "\n",
    "This iterates through the provided points and find the cheapest point.\n",
    "\n",
    "* **points** List[Tuple[int, int]]: the points to have the cost checked.\n",
    "* **costs** Dict[str, int]: is a `Dict` of costs for each type of terrain in **world**.\n",
    "* **world** List[List[str]]: the actual context for the navigation problem.\n",
    "* **goal** Tuple[int, int]: the desired goal position for the bot, `(x, y)`.\n",
    "\n",
    "**returns** int: the index of the cheapest point in the provided list.\n"
   ]
  },
  {
   "cell_type": "code",
   "execution_count": 14,
   "metadata": {},
   "outputs": [],
   "source": [
    "def get_cheapest_point_index(points: List[Tuple[int,int]], costs: Dict[str, int], world: List[List[str]], goal: Tuple[int, int]):\n",
    "    min = 99999\n",
    "    min_index = -1\n",
    "    for i in range(len(points)):\n",
    "        complex_cost = get_complex_cost_from_path([points[i]], costs, world, goal)\n",
    "        if complex_cost < min:\n",
    "            min = complex_cost\n",
    "            min_index = i\n",
    "    return min_index"
   ]
  },
  {
   "cell_type": "code",
   "execution_count": 15,
   "metadata": {},
   "outputs": [],
   "source": [
    "test_list1 = [(0,0),(1,0),(2,0)]\n",
    "test_list2 = [(1,0),(2,0),(3,0)]\n",
    "test_list3 = [(0,0),(0,1),(0,2)]\n",
    "goal = [len(test_world), len(test_world[0])]\n",
    "assert get_cheapest_point_index(test_list1, COSTS, test_world, goal) == 1\n",
    "assert get_cheapest_point_index(test_list2, COSTS, test_world, goal) == 2\n",
    "assert get_cheapest_point_index(test_list3, COSTS, test_world, goal) == 0"
   ]
  },
  {
   "cell_type": "markdown",
   "metadata": {},
   "source": [
    "<a id=\"get_cleaned_sorted_path\"></a>\n",
    "## get_cleaned_sorted_path\n",
    "\n",
    "This reworks the provided explored points to be a sorted path of the steps for the A-star solution. (also trims extra points that could exist)\n",
    "\n",
    "* **explored** List[Tuple[int, int]]: the points that were explored in finding the solution path.\n",
    "* **start** Tuple[int, int]: the start position for the bot, `(x, y)`.\n",
    "* **goal** Tuple[int, int]: the desired goal position for the bot, `(x, y)`.\n",
    "* **moves** List[Tuple[int, int]]: the legal movement model expressed in offsets in **world**.\n",
    "\n",
    "**returns** List[Tuple[int, int]]: the list of points in order of the a-star solution.\n"
   ]
  },
  {
   "cell_type": "code",
   "execution_count": 16,
   "metadata": {},
   "outputs": [],
   "source": [
    "def get_cleaned_sorted_path(path: List[Tuple[int,int]], start: Tuple[int, int], goal: Tuple[int, int], moves: List[Tuple[int, int]]):\n",
    "    final = [goal]\n",
    "    start_found = False\n",
    "    previous_current = [goal]\n",
    "    current = goal\n",
    "    working_path = deepcopy(path)\n",
    "    checked = []\n",
    "    while (start_found == False and len(working_path) > 0):\n",
    "        if current == start:\n",
    "            start_found = True\n",
    "        moves_accepted = False\n",
    "        for move in moves:\n",
    "            new_point = (current[0] + move[0], current[1] + move[1])\n",
    "            if not new_point in working_path or new_point in final or new_point in checked:\n",
    "                continue\n",
    "            moves_accepted = True\n",
    "            previous_current.append(current)\n",
    "            current = new_point\n",
    "            checked.append(current)\n",
    "            final.append(current)\n",
    "            working_path.remove(current)\n",
    "        if moves_accepted == False:\n",
    "            if current in final:\n",
    "                final.remove(current)\n",
    "            current = previous_current.pop()\n",
    "    final.append(start)\n",
    "    return final[::-1]"
   ]
  },
  {
   "cell_type": "code",
   "execution_count": 17,
   "metadata": {},
   "outputs": [],
   "source": [
    "test_list1 = [(0,0),(1,0),(2,0),(3,0)]\n",
    "test_list2 = [(3,0),(2,0),(1,0)]\n",
    "test_list3 = [(0,0),(0,1),(0,2),(1,2),(2,2),(3,2),(4,2),(4,1),(4,0)]\n",
    "assert get_cleaned_sorted_path(test_list1, (0,0), (2,0), MOVES) == [(0, 0), (1, 0), (2, 0)]\n",
    "assert get_cleaned_sorted_path(test_list2, (1,0), (3,0), MOVES) == [(1, 0), (2, 0), (3, 0)]\n",
    "assert get_cleaned_sorted_path(test_list3, (0,0), (4,0), MOVES) == [(0, 0), (0, 1), (0, 2), (1, 2), (2, 2), (3, 2), (4, 2), (4, 1), (4, 0)]"
   ]
  },
  {
   "cell_type": "markdown",
   "metadata": {},
   "source": [
    "<a id=\"a_star_search\"></a>\n",
    "## a_star_search\n",
    "\n",
    "Process to do the search is as follows:\n",
    "* get the starting point's sucessors\n",
    "* for each starting point calculate costs and maintain a sorted list of lowest costs\n",
    "* favoring the lowest cost points, again we find each successor and calculate costs\n",
    "    * do this until we find the goal\n",
    "* recurse back through the values we found to find the best path and return that\n",
    "\n",
    "Variables\n",
    "\n",
    "* **world** List[List[str]]: the actual context for the navigation problem.\n",
    "* **start** Tuple[int, int]: the starting location of the bot, `(x, y)`.\n",
    "* **goal** Tuple[int, int]: the desired goal position for the bot, `(x, y)`.\n",
    "* **costs** Dict[str, int]: is a `Dict` of costs for each type of terrain in **world**.\n",
    "* **moves** List[Tuple[int, int]]: the legal movement model expressed in offsets in **world**.\n",
    "* **heuristic** Callable: is a heuristic function, $h(n)$.\n",
    "\n",
    "\n",
    "**returns** List[Tuple[int, int]]: the offsets needed to get from start state to the goal as a `List`.\n"
   ]
  },
  {
   "cell_type": "code",
   "execution_count": 18,
   "metadata": {},
   "outputs": [],
   "source": [
    "def a_star_search(world: List[List[str]], start: Tuple[int, int], goal: Tuple[int, int], costs: Dict[str, int], moves: List[Tuple[int, int]], heuristic: Callable) -> List[Tuple[int, int]]:\n",
    "    explored = [start]\n",
    "    frontier = find_successors(start, world, moves)\n",
    "    goal_found = False\n",
    "    while len(frontier) > 0 and goal_found == False:\n",
    "        cheapest_point = frontier.pop(get_cheapest_point_index(frontier, costs, world, goal))\n",
    "        for s in find_successors(cheapest_point, world, moves):\n",
    "            if s[0] == goal[0] and s[1] == goal[1]:\n",
    "                goal_found = True\n",
    "                explored.append(s)\n",
    "                break\n",
    "            if s in explored:\n",
    "                continue\n",
    "            frontier.append(s)\n",
    "        if cheapest_point in explored:\n",
    "            continue\n",
    "        explored.append(cheapest_point)\n",
    "    return get_cleaned_sorted_path(explored, start, goal, moves)"
   ]
  },
  {
   "cell_type": "markdown",
   "metadata": {},
   "source": [
    "## pretty_print_path\n",
    "\n",
    "This takes the world, makes a copy of it, then overlays the solution onto it. Logic includes looking at the current point and next point to find what direction of arrow to use.\n",
    "\n",
    "* **world** List[List[str]]: the world (terrain map) for the path to be printed upon.\n",
    "* **path** List[Tuple[int, int]]: the path from start to goal, in offsets.\n",
    "* **start** Tuple[int, int]: the starting location for the path.\n",
    "* **goal** Tuple[int, int]: the goal location for the path.\n",
    "* **cost** Dict[str, int]: is a `Dict` of costs for each type of terrain in **world**.\n",
    "\n",
    "\n",
    "**returns** int - The path cost."
   ]
  },
  {
   "cell_type": "markdown",
   "metadata": {},
   "source": [
    "\n",
    "<div style=\"background: lemonchiffon; margin:20px; padding: 20px;\">\n",
    "    <strong>Important</strong>\n",
    "    <p>\n",
    "        Does your output of pretty_print_path really look like the specification? Go check again.\n",
    "    </p>\n",
    "</div>"
   ]
  },
  {
   "cell_type": "code",
   "execution_count": 19,
   "metadata": {},
   "outputs": [],
   "source": [
    "def pretty_print_path( world: List[List[str]], path: List[Tuple[int, int]], start: Tuple[int, int], goal: Tuple[int, int], cost: Dict[str, int]) -> int:\n",
    "    directions = { (0,1):'⏩', (0,-1):'⏪', (-1,0):'⏫', (1,0):'⏬' }\n",
    "    finish = '🎁'\n",
    "    total_cost = get_cost_from_path(path, cost, world, goal)\n",
    "    p_world = deepcopy(world)\n",
    "    previous_point = None\n",
    "    for point in path:\n",
    "        if point == start:\n",
    "            previous_point = point\n",
    "            continue\n",
    "        diff = (point[0] - previous_point[0], point[1] - previous_point[1])\n",
    "        p_world[previous_point[0]][previous_point[1]] = directions[diff]\n",
    "        previous_point = point\n",
    "        if point == goal:\n",
    "            p_world[goal[0]][goal[1]] = finish\n",
    "            break\n",
    "    # print the pretty path string\n",
    "    final = ''\n",
    "    for line in p_world:\n",
    "        final = final + \"\".join(line) + \"\\n\"\n",
    "    print(final)\n",
    "    return total_cost"
   ]
  },
  {
   "cell_type": "markdown",
   "metadata": {},
   "source": [
    "## Problems"
   ]
  },
  {
   "cell_type": "markdown",
   "metadata": {},
   "source": [
    "## Problem 1. \n",
    "\n",
    "Execute `a_star_search` and `print_path` for the `test_world`.\n",
    "\n",
    "If you change any values while developing your code, make sure you change them back! (Better yet, don't do it. Copy them elsewhere and change the values, then delete those experiments)."
   ]
  },
  {
   "cell_type": "code",
   "execution_count": 20,
   "metadata": {},
   "outputs": [
    {
     "name": "stdout",
     "output_type": "stream",
     "text": [
      "⏬🌲🌲🌲🌲🌲🌲\n",
      "⏬🌲🌲🌲🌲🌲🌲\n",
      "⏬🌲🌲🌲🌲🌲🌲\n",
      "⏩⏩⏩⏩⏩⏩⏬\n",
      "🌲🌲🌲🌲🌲🌲⏬\n",
      "🌲🌲🌲🌲🌲🌲⏬\n",
      "🌲🌲🌲🌲🌲🌲🎁\n",
      "\n",
      "total path cost: 13\n",
      "[(0, 0), (1, 0), (2, 0), (3, 0), (3, 1), (3, 2), (3, 3), (3, 4), (3, 5), (3, 6), (4, 6), (5, 6), (6, 6)]\n"
     ]
    }
   ],
   "source": [
    "test_start = (0, 0)\n",
    "test_goal = (len(test_world[0]) - 1, len(test_world) - 1)\n",
    "test_path = a_star_search(test_world, test_start, test_goal, COSTS, MOVES, heuristic)\n",
    "test_path_cost = pretty_print_path(test_world, test_path, test_start, test_goal, COSTS)\n",
    "print(f\"total path cost: {test_path_cost}\")\n",
    "print(test_path)"
   ]
  },
  {
   "cell_type": "markdown",
   "metadata": {},
   "source": [
    "## Problem 2\n",
    "\n",
    "Execute `a_star_search` and `print_path` for the `full_world`"
   ]
  },
  {
   "cell_type": "code",
   "execution_count": 21,
   "metadata": {},
   "outputs": [
    {
     "name": "stdout",
     "output_type": "stream",
     "text": [
      "⏬🌾🌾🌾🌾🌲🌲🌲🌲🌲🌲🌲🌲🌲🌲🌾🌾🌾🌾🌾🌾🌾🌾🌾🌾🌾🌾\n",
      "⏬🌾🌾🌾🌾🌾🌾🌲🌲🌲🌲🌲🌲🌲🌲🌲🌾🌾🗻🗻🗻🗻🗻🗻🗻🌾🌾\n",
      "⏬🌾🌾🌾🗻🗻🌲🌲🌲🌲🌲🌲🌲🌲🌲🌲🌲🗻🗻🗻⛰⛰⛰🗻🗻⛰⛰\n",
      "⏬🌾🌾🌾⛰🗻🗻🗻🌲🌲🌲🌲🐊🐊🌲🌲🌲🌲🌲🌾🌾⛰⛰🗻🗻⛰🌾\n",
      "⏬🌾🌾⛰⛰🗻🗻🌲🌲🌾🌾🐊🐊🐊🐊🌲🌲🌲🌾🌾🌾⛰🗻🗻🗻⛰🌾\n",
      "⏬⛰⛰⛰🗻🗻⛰⛰🌾🌾🌾🌾🐊🐊🐊🐊🐊🌾🌾🌾🌾🌾⛰🗻⛰🌾🌾\n",
      "⏬⛰⛰🗻🗻⛰⛰🌾🌾🌾🌾⛰🗻🗻🗻🐊🐊🐊🌾🌾🌾🌾🌾⛰🌾🌾🌾\n",
      "⏩⏬⛰⛰⛰⛰⛰🌾🌾🌾🌾🌾🌾⛰🗻🗻🗻🐊🐊🐊🌾🌾⛰⛰⛰🌾🌾\n",
      "⏬⏪⏩⏩⏩⏩⏬🌾🌾🌾🌾🌾⛰⛰🗻🗻🌾🐊🐊🌾🌾⛰⛰⛰🌾🌾🌾\n",
      "⏬⏩⏫🐊🐊🐊⏩⏬⛰⛰⛰🗻🗻🗻🗻🌾🌾🌾🐊🌾⛰⛰⛰🌾🌾🌾🌾\n",
      "⏩⏫🐊🐊🐊🐊🐊⏬⛰⛰🗻🗻🗻⛰🌾🌾🌾🌾🌾⛰🗻🗻🗻⛰🌾🌾🌾\n",
      "🌾🐊🐊🐊🐊🐊⏬⏪⛰🗻🗻⛰🌾🌾🌾🌾🐊🐊🌾🌾⛰🗻🗻⛰🌾🌾🌾\n",
      "🐊🐊🐊🐊🐊🌾⏬⛰⛰🗻🗻⛰🌾🐊🐊🐊🐊🌾🌾🌾⛰🗻⛰🌾🌾🌾🌾\n",
      "🌾🐊🐊🐊🐊🌾⏬⛰🌲🌲⛰🌾🌾🌾🌾🐊🐊🐊🐊🌾🌾⛰🌾🌾🌾🌾🌾\n",
      "🌾🌾🌾🌾🗻🌾⏩⏬🌲🌲🌲⛰⛰⛰⛰🌾🐊🐊🐊🌾🌾⛰🗻⛰🌾🌾🌾\n",
      "🌾🌾🌾🗻🗻🗻🌲⏩⏩⏩⏬🌲🗻🗻🗻⛰⛰🌾🐊🌾⛰🗻🗻⛰🌾🌾🌾\n",
      "🌾🌾🗻🗻🌲🌲🌲🌲🌲🌲⏬🌲🌲🌲🗻🗻🗻🌾🌾🗻🗻🗻🌾🌾🌾🌾🌾\n",
      "🌾🌾🌾🗻🗻🌲🌲🌲🌲🌲⏩⏬🌲🌲🌲🌲🗻🗻🗻🗻🌾🌾🌾🌾🌾🌾🌾\n",
      "🌾🌾🌾🗻🗻🗻🌲🌲🌲🌲🌲⏩⏩⏩⏬🌾🌾⛰⛰🌾🌾🌾🌾🌾🌾🌾🌾\n",
      "🌾🌾🌾🌾🗻🗻🗻🌲🌲🌲🌲🌲🌲🌾⏩⏩⏩⏬🌾🌾🌾🌾🌾🐊🐊🐊🐊\n",
      "🌾🌾⛰⛰⛰⛰🗻🗻🌲🌲🌲🌲🌲🌾🗻🌾🌾⏩⏬🌾🐊🐊🐊🐊🐊🐊🐊\n",
      "🌾🌾🌾🌾⛰⛰⛰🗻🗻🗻🌲🌲🗻🗻🌾🌾🌾🌾⏩⏬🐊🐊🐊🐊🐊🐊🐊\n",
      "🌾🌾🌾🌾🌾🌾⛰⛰⛰🗻🗻🗻🗻🌾🌾🌾🌾⛰⛰⏩⏬🐊🐊🐊🐊🐊🐊\n",
      "🌾⛰⛰🌾🌾⛰⛰⛰⛰⛰🌾🌾🌾🌾🌾⛰⛰🗻🗻⛰⏩⏬🐊🐊🐊🐊🐊\n",
      "⛰🗻⛰⛰⛰⛰🌾🌾🌾🌾🌾🗻🗻🗻⛰⛰🗻🗻🌾🗻🗻⏩⏩⏬🐊🐊🐊\n",
      "⛰🗻🗻🗻⛰🌾🌾🌾🌾🌾⛰⛰🗻🗻🗻🗻⛰⛰⛰⛰🗻🗻🗻⏬🐊🐊🐊\n",
      "⛰⛰🌾🌾🌾🌾🌾🌾🌾🌾🌾🌾⛰⛰⛰⛰⛰🌾🌾🌾🌾⛰⛰⏩⏩⏩🎁\n",
      "\n",
      "total path cost: 123\n",
      "[(0, 0), (1, 0), (2, 0), (3, 0), (4, 0), (5, 0), (6, 0), (7, 0), (7, 1), (8, 1), (8, 0), (9, 0), (10, 0), (10, 1), (9, 1), (9, 2), (8, 2), (8, 3), (8, 4), (8, 5), (8, 6), (9, 6), (9, 7), (10, 7), (11, 7), (11, 6), (12, 6), (13, 6), (14, 6), (14, 7), (15, 7), (15, 8), (15, 9), (15, 10), (16, 10), (17, 10), (17, 11), (18, 11), (18, 12), (18, 13), (18, 14), (19, 14), (19, 15), (19, 16), (19, 17), (20, 17), (20, 18), (21, 18), (21, 19), (22, 19), (22, 20), (23, 20), (23, 21), (24, 21), (24, 22), (24, 23), (25, 23), (26, 23), (26, 24), (26, 25), (26, 26)]\n"
     ]
    }
   ],
   "source": [
    "full_start = (0, 0)\n",
    "full_goal = (len(full_world[0]) - 1, len(full_world) - 1)\n",
    "full_path = a_star_search(full_world, full_start, full_goal, COSTS, MOVES, heuristic)\n",
    "full_path_cost = pretty_print_path(full_world, full_path, full_start, full_goal, COSTS)\n",
    "print(f\"total path cost: {full_path_cost}\")\n",
    "print(full_path)"
   ]
  },
  {
   "cell_type": "markdown",
   "metadata": {},
   "source": [
    "## Comments\n",
    "\n",
    "(This is the place to leave me comments)\n",
    "\n",
    "1. I'm not sure what the emoji was supposed to look like, but the one for the Hill wasn't displaying correctly on my pc so I swapped it to something else.\n",
    "2. For the full world solution, I couldn't figure out why I get a little loop on the left side, but clearly it shouldn't be there, it should just go right instead of take the like 7 step detour. Any ideas on what I may have coded wrong there?"
   ]
  },
  {
   "cell_type": "markdown",
   "metadata": {},
   "source": [
    "## To think about for future assignments..."
   ]
  },
  {
   "cell_type": "markdown",
   "metadata": {},
   "source": [
    "This first assignment may not have been difficult for you if you've encountered A* search before in your Algorithms course. In preparation for future assignments that build on State Space Search, you can think about the following or even do an implementation if you like. You should **not** submit it as part of this assignment.\n",
    "\n",
    "In several future assignments, we will have a need for a \"plain ol'\" Depth First Search algorithm.\n",
    "\n",
    "1. Implement DFS Search to solve the problem presented in this programming assignment. Try to be as general as possible (don't hard code anything you can pass as a formal parameter).\n",
    "2. Can you implement DFS Search as a higher order function and supply your own `is_goal`, `successors`, and `path` functions? How do you handle *state*?\n",
    "3. Can you write a version of DFS that returns all the solutions?\n",
    "\n",
    "In one future assignment a Breadth First Search algorithm will be very handy. Can you implement a search algorithm that changes whether it uses DFS or BFS by parameterization?"
   ]
  },
  {
   "cell_type": "markdown",
   "metadata": {},
   "source": [
    "## Before You Submit...\n",
    "\n",
    "1. Did you provide output exactly as requested?\n",
    "2. Did you follow the Programming Requirements on Canvas?\n",
    "\n",
    "Do not submit any other files."
   ]
  }
 ],
 "metadata": {
  "kernelspec": {
   "display_name": "Python (en605645)",
   "language": "python",
   "name": "en605645"
  },
  "language_info": {
   "codemirror_mode": {
    "name": "ipython",
    "version": 3
   },
   "file_extension": ".py",
   "mimetype": "text/x-python",
   "name": "python",
   "nbconvert_exporter": "python",
   "pygments_lexer": "ipython3",
   "version": "3.8.8"
  },
  "toc": {
   "colors": {
    "hover_highlight": "#DAA520",
    "navigate_num": "#000000",
    "navigate_text": "#333333",
    "running_highlight": "#FF0000",
    "selected_highlight": "#FFD700",
    "sidebar_border": "#EEEEEE",
    "wrapper_background": "#FFFFFF"
   },
   "moveMenuLeft": true,
   "nav_menu": {
    "height": "192px",
    "width": "252px"
   },
   "navigate_menu": true,
   "number_sections": true,
   "sideBar": true,
   "threshold": 4,
   "toc_cell": false,
   "toc_section_display": "block",
   "toc_window_display": false,
   "widenNotebook": false
  }
 },
 "nbformat": 4,
 "nbformat_minor": 4
}
